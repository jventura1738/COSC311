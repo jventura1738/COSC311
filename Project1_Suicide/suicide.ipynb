{
 "metadata": {
  "language_info": {
   "codemirror_mode": {
    "name": "ipython",
    "version": 3
   },
   "file_extension": ".py",
   "mimetype": "text/x-python",
   "name": "python",
   "nbconvert_exporter": "python",
   "pygments_lexer": "ipython3",
   "version": "3.7.7-final"
  },
  "orig_nbformat": 2,
  "kernelspec": {
   "name": "Python 3.7.7 64-bit ('myenv': conda)",
   "display_name": "Python 3.7.7 64-bit ('myenv': conda)",
   "metadata": {
    "interpreter": {
     "hash": "5e44cd7e4acbc4c3ab0f633f6715c5c79a43487845214c014274b690a60e9521"
    }
   }
  }
 },
 "nbformat": 4,
 "nbformat_minor": 2,
 "cells": [
  {
   "cell_type": "markdown",
   "metadata": {},
   "source": [
    "# Project 1: Suicide Data\n",
    "\n",
    "Author: Justin Ventura [[jventura3@gulls.salisbury.edu]]\n",
    "\n",
    "Date: Wednesday, October 14th, 2020.\n",
    "\n",
    "## - Description -\n",
    "\n",
    "This dataset contains information about the suicide rates per country from 1987 to 2016.  It contains a few factors about the population in order to derive correlations."
   ]
  },
  {
   "cell_type": "code",
   "execution_count": 5,
   "metadata": {},
   "outputs": [
    {
     "output_type": "stream",
     "name": "stdout",
     "text": [
      "s_frame(row, col) = (27820, 12)\n"
     ]
    },
    {
     "output_type": "execute_result",
     "data": {
      "text/plain": [
       "   country  year     sex          age  suicides_no  population  \\\n",
       "0  Albania  1987    male  15-24 years           21      312900   \n",
       "1  Albania  1987    male  35-54 years           16      308000   \n",
       "2  Albania  1987  female  15-24 years           14      289700   \n",
       "3  Albania  1987    male    75+ years            1       21800   \n",
       "4  Albania  1987    male  25-34 years            9      274300   \n",
       "\n",
       "   suicides/100k pop country-year  HDI for year  gdp_for_year ($)   \\\n",
       "0               6.71  Albania1987           NaN      2,156,624,900   \n",
       "1               5.19  Albania1987           NaN      2,156,624,900   \n",
       "2               4.83  Albania1987           NaN      2,156,624,900   \n",
       "3               4.59  Albania1987           NaN      2,156,624,900   \n",
       "4               3.28  Albania1987           NaN      2,156,624,900   \n",
       "\n",
       "   gdp_per_capita ($)       generation  \n",
       "0                 796     Generation X  \n",
       "1                 796           Silent  \n",
       "2                 796     Generation X  \n",
       "3                 796  G.I. Generation  \n",
       "4                 796          Boomers  "
      ],
      "text/html": "<div>\n<style scoped>\n    .dataframe tbody tr th:only-of-type {\n        vertical-align: middle;\n    }\n\n    .dataframe tbody tr th {\n        vertical-align: top;\n    }\n\n    .dataframe thead th {\n        text-align: right;\n    }\n</style>\n<table border=\"1\" class=\"dataframe\">\n  <thead>\n    <tr style=\"text-align: right;\">\n      <th></th>\n      <th>country</th>\n      <th>year</th>\n      <th>sex</th>\n      <th>age</th>\n      <th>suicides_no</th>\n      <th>population</th>\n      <th>suicides/100k pop</th>\n      <th>country-year</th>\n      <th>HDI for year</th>\n      <th>gdp_for_year ($)</th>\n      <th>gdp_per_capita ($)</th>\n      <th>generation</th>\n    </tr>\n  </thead>\n  <tbody>\n    <tr>\n      <th>0</th>\n      <td>Albania</td>\n      <td>1987</td>\n      <td>male</td>\n      <td>15-24 years</td>\n      <td>21</td>\n      <td>312900</td>\n      <td>6.71</td>\n      <td>Albania1987</td>\n      <td>NaN</td>\n      <td>2,156,624,900</td>\n      <td>796</td>\n      <td>Generation X</td>\n    </tr>\n    <tr>\n      <th>1</th>\n      <td>Albania</td>\n      <td>1987</td>\n      <td>male</td>\n      <td>35-54 years</td>\n      <td>16</td>\n      <td>308000</td>\n      <td>5.19</td>\n      <td>Albania1987</td>\n      <td>NaN</td>\n      <td>2,156,624,900</td>\n      <td>796</td>\n      <td>Silent</td>\n    </tr>\n    <tr>\n      <th>2</th>\n      <td>Albania</td>\n      <td>1987</td>\n      <td>female</td>\n      <td>15-24 years</td>\n      <td>14</td>\n      <td>289700</td>\n      <td>4.83</td>\n      <td>Albania1987</td>\n      <td>NaN</td>\n      <td>2,156,624,900</td>\n      <td>796</td>\n      <td>Generation X</td>\n    </tr>\n    <tr>\n      <th>3</th>\n      <td>Albania</td>\n      <td>1987</td>\n      <td>male</td>\n      <td>75+ years</td>\n      <td>1</td>\n      <td>21800</td>\n      <td>4.59</td>\n      <td>Albania1987</td>\n      <td>NaN</td>\n      <td>2,156,624,900</td>\n      <td>796</td>\n      <td>G.I. Generation</td>\n    </tr>\n    <tr>\n      <th>4</th>\n      <td>Albania</td>\n      <td>1987</td>\n      <td>male</td>\n      <td>25-34 years</td>\n      <td>9</td>\n      <td>274300</td>\n      <td>3.28</td>\n      <td>Albania1987</td>\n      <td>NaN</td>\n      <td>2,156,624,900</td>\n      <td>796</td>\n      <td>Boomers</td>\n    </tr>\n  </tbody>\n</table>\n</div>"
     },
     "metadata": {},
     "execution_count": 5
    }
   ],
   "source": [
    "# Libraries we shall be using.\n",
    "import numpy as np\n",
    "import pandas as pd\n",
    "import matplotlib.pyplot as plt\n",
    "from timeit import default_timer as timer # start = timer(), end = timer()\n",
    "\n",
    "s_frame = pd.read_csv(\"suicide_data.csv\")\n",
    "print('s_frame(row, col) =', s_frame.shape)\n",
    "s_frame.head(5) # Print the first 9 entries."
   ]
  },
  {
   "cell_type": "markdown",
   "metadata": {},
   "source": [
    "## Questions to answer:\n",
    "\n",
    "### A) What type of population is being sampled? What are the “things” getting measured – usually one per row of data.\n",
    "\n",
    "For this dataset, we have countries being sampled by year.  That is, each row has a country, year, gender, age-group, which are all large groups.\n",
    "\n",
    "### B) What features does each sample have, i.e. what is being measured?\n",
    "\n",
    "For each country, there is a corresponding year.  (The best way to group this would be by country, year, gender, age-group)  Then the features for each sampled country by year would be: gender, age group, # of suicides, population size, suicides per 100k population, Human Development Index for the year, GDP for that year, GDP per capita, and what generation the age group is in.\n",
    "\n",
    "### C) Are the features quantitative or qualitative? Ordinal or nominal? Continuous or discrete?\n",
    "\n",
    "- Most of the features are quantitative, such as: a given country's population, the # of suicides per 100K, GDP, etc.  Then the only real qualitative feature which I will be focusing on is the gender/generation portion of the data.\n",
    "\n",
    "- The gender and age groups are nominal features of each sample.  Then the main ordinal feature presented is the HDI (Human Development Index) which, where availible, can be used to compare different samples to see which HDI is higher.  This could be useful down the line.\n",
    "\n",
    "- Almost every single feature is discrete except for (arguably) the HDI and suicides/100k pop.\n",
    "\n",
    "### D) Is the data “complete” or do some of the samples have null or absent values for certain features? Why are these samples still useful? Why are they incomplete?\n",
    "\n",
    "The data is *incomplete.*  Some of the countries are missing values for their respective HDI. (presumably because it was simply not measured for a specific year for whatever reason)  These samples are still useful because if a certain assessment does not factor in HDI, then it is okay for it to be missing.  This is sort of inconvenient for cases which require the analysis of the HDI, but does not make analysis impossible.\n",
    "\n",
    "### E) Why are these features chosen to be part of the dataset?\n",
    "\n",
    "These features can be measured and used to make correlations, (correlation $\\neq$ causation) guesses, and predictions.\n",
    "\n",
    "### F) What are some other features that are not included but that you think might make sense to include for this dataset?\n",
    "\n",
    "I am so glad you ask: this is a very important topic to me for multiple reasons.  Firstly, I am both a huge fan, but also a huge critic of social media.  You may ask: how does that have anything to do with this?  Here is my justification: I believe that the rise of social media (and even entertainment, the internet/world wide web, and the information age as a whole; an argument for another time) is causing the rise in suicide rates.  Secondly, I am a huge advocate for mental health awareness, (stemming from both personal experience,and from my experience with friends & family) so if I could find a reasonable correlation and possibly causation for the (I assume to be) rising suicide rates.\n",
    "\n",
    "Therefore, I wish this dataset included how many people for the country used social media, if they did, which platforms, and an estimate on how often they used it.  I also would like if the dataset could also include, for those who had taken their own life, a brief description of their mental condition.  For example, maybe include diagnosis for a victim such as \"clinically depressed,\" \"anxious,\" \"ADHD.\"  Maybe even include categories for whether or not the person had a mother/father growing up, if they experienced abuse of some sort, etc.  Some of these features I have mentioned are pretty in-depth, sensitive, and even hard to collect, so I can see why these things were neglected.  However, this does give me motivation for a (pretty far) future data analysis project where I could attempt to get data like this if possible."
   ]
  },
  {
   "cell_type": "markdown",
   "metadata": {},
   "source": [
    "### G) Give at least one way that you can pivot the dataset to get a slightly different representation of some values. Explain what this is and how you would use it for a visualization.\n",
    "\n",
    "I could pivot the data to form a timeline for a specific country grouped by country, gender, age-group, over the index of time."
   ]
  },
  {
   "cell_type": "code",
   "execution_count": 6,
   "metadata": {},
   "outputs": [],
   "source": [
    "# TODO: pivot the dataset."
   ]
  },
  {
   "cell_type": "markdown",
   "metadata": {},
   "source": [
    "H) Identify any possible relationships between features included in the data: which ones are likely to affect others?\n",
    "\n",
    "I think the first step is to see if \"richer\" countries have a higher suicide rate, (normalized by population) and if they do, I cannot prove, but can still make, some assumptions as to why.\n",
    "\n",
    "Then the next step could be to see if a specific gender or age-group is more susceptible to taking their own lives.  Again, I can make more assumptions that are reasonable but not proved based on my results."
   ]
  },
  {
   "cell_type": "code",
   "execution_count": 7,
   "metadata": {},
   "outputs": [],
   "source": [
    "# TODO: Show at least one plot or visualization to illustrate this (possible) relationship\n",
    "# TODO: What numerical or statistical techniques might you consider using to determine whether the\n",
    "#       relationship is reliable?\n",
    "# TODO: Are there external inferences you think might be possible? For instance, can you hypothesize\n",
    "#       a relationship with data not included in the dataset? Why or why not?"
   ]
  },
  {
   "cell_type": "markdown",
   "metadata": {},
   "source": [
    "### I) What “extra” features can you perhaps compute from the data? For example, if you have data that includes product dates of purchase, you can “engineer” the data to construct the most popular products over various lengths of time (e.g. a particular holiday season). How might you use this information? Using the holiday example, you might try to correlate holiday sales of a product to some mainstream event that popularized it.\n",
    "\n",
    "I could possibly compute the percentages of suicide numbers for each gender, (such that %M + %F = 100%) do the same for age-groups, and even for the countries over the years. (I will probably not go that far, but it is possible)"
   ]
  }
 ]
}
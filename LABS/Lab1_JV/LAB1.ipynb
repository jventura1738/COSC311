{
 "metadata": {
  "language_info": {
   "codemirror_mode": {
    "name": "ipython",
    "version": 3
   },
   "file_extension": ".py",
   "mimetype": "text/x-python",
   "name": "python",
   "nbconvert_exporter": "python",
   "pygments_lexer": "ipython3",
   "version": "3.7.6-final"
  },
  "orig_nbformat": 2,
  "kernelspec": {
   "name": "python_defaultSpec_1599181448181",
   "display_name": "Python 3.7.6 64-bit"
  }
 },
 "nbformat": 4,
 "nbformat_minor": 2,
 "cells": [
  {
   "cell_type": "markdown",
   "metadata": {},
   "source": [
    "# Lab 1\n",
    "\n",
    "Author: Justin Ventura [[jventura3@gulls.salisbury.edu]]\n",
    "\n",
    "Date: Thursday, September 3rd, 2020.\n",
    "\n",
    "## - Description -\n",
    "\n",
    "Introductory lab going over very simple concepts for review."
   ]
  },
  {
   "cell_type": "markdown",
   "metadata": {},
   "source": [
    "### First make a list of 10 musicians (dictionaries):"
   ]
  },
  {
   "cell_type": "code",
   "execution_count": 10,
   "metadata": {},
   "outputs": [],
   "source": [
    "artists = [\n",
    "    {'id': 0, 'name': 'Juice WRLD'},\n",
    "    {'id': 1, 'name': 'XXXTentacion'},\n",
    "    {'id': 2, 'name': '21 Savage'},\n",
    "    {'id': 3, 'name': 'Lil Baby'},\n",
    "    {'id': 4, 'name': 'The Kid Laroi'},\n",
    "    {'id': 5, 'name': 'Rich Brian'},\n",
    "    {'id': 6, 'name': 'Trippie Redd'},\n",
    "    {'id': 7, 'name': 'Gunna'},\n",
    "    {'id': 8, 'name': 'Travis Scott'},\n",
    "    {'id': 9, 'name': 'Rich The Kid'},\n",
    "    {'id': 10, 'name': 'Iann Dior'},\n",
    "]"
   ]
  },
  {
   "cell_type": "markdown",
   "metadata": {},
   "source": [
    "### Now a list of songs:"
   ]
  },
  {
   "cell_type": "code",
   "execution_count": 11,
   "metadata": {},
   "outputs": [],
   "source": [
    "songs = [\n",
    "    {'id': 0, 'name': 'Robbery'},\n",
    "    {'id': 1, 'name': 'Bankroll'},\n",
    "    {'id': 2, 'name': 'Drip Too Hard'},\n",
    "    {'id': 3, 'name': 'Go'},\n",
    "    {'id': 4, 'name': 'F*** Love'},\n",
    "    {'id': 5, 'name': 'We Should'},\n",
    "    {'id': 6, 'name': 'Prospect'},\n",
    "    {'id': 7, 'name': 'Dark Knight Dummo'},\n",
    "    {'id': 8, 'name': 'Blast Off'},\n",
    "    {'id': 9, 'name': 'Changes'},\n",
    "    {'id': 10, 'name': 'Plug Walk'},\n",
    "    {'id': 11, 'name': 'Strings'},\n",
    "    {'id': 12, 'name': 'Yosemite'},\n",
    "    {'id': 13, 'name': 'Stay for a while'},\n",
    "    {'id': 14, 'name': 'All my friends'},\n",
    "    {'id': 15, 'name': 'Cant leave without it'}\n",
    "]"
   ]
  },
  {
   "cell_type": "markdown",
   "metadata": {},
   "source": [
    "### Now here are the pairs of (artist id, song id) relationships:"
   ]
  },
  {
   "cell_type": "code",
   "execution_count": 12,
   "metadata": {},
   "outputs": [],
   "source": [
    "# form (artist, song)\n",
    "artist_songs = [\n",
    "    (0,0), (0,3), (0,8),\n",
    "    (1,4), (0,9),\n",
    "    (2,14), (2,15),\n",
    "    (3,2), (3,5), (3,6), (3,15),\n",
    "    (4,3),\n",
    "    (5,1),\n",
    "    (6,4), (6,7), (6,8),\n",
    "    (7,2), (7,11), (7,12), (7,15),\n",
    "    (8,7),\n",
    "    (9,2), (9,10), \n",
    "    (10,6), (10,11), (10,13),\n",
    "]"
   ]
  },
  {
   "cell_type": "markdown",
   "metadata": {},
   "source": [
    "### Now we can make a subroutine <code> who_covered </code> to return a list of artists who worked on the song passed in as an argument."
   ]
  },
  {
   "cell_type": "code",
   "execution_count": 17,
   "metadata": {
    "tags": []
   },
   "outputs": [
    {
     "output_type": "stream",
     "name": "stdout",
     "text": "['XXXTentacion', 'Trippie Redd']\n"
    }
   ],
   "source": [
    "def who_covered(target_song: str) -> list:\n",
    "    target = None\n",
    "    for song in songs:\n",
    "        if song['name'] == target_song:\n",
    "            target = song['id']\n",
    "            break\n",
    "\n",
    "    assert(target is not None), 'target song not found in database.'\n",
    "    return [artists[pair[0]].get('name') for pair in artist_songs if pair[1] is target]\n",
    "\n",
    "print(who_covered('F*** Love')) # Should print XXXTentacion and Trippie Redd"
   ]
  },
  {
   "cell_type": "markdown",
   "metadata": {},
   "source": [
    "### Now we can make a subroutine <code> shared_songs </code> to take in an artists name, then return songs they have which are also shared with other artists."
   ]
  },
  {
   "cell_type": "code",
   "execution_count": 14,
   "metadata": {},
   "outputs": [],
   "source": [
    "def shared_songs(target_artist: str) -> list:\n",
    "    a_id = None\n",
    "    for artist in artists:\n",
    "        if artist['name'] == target_artist:\n",
    "            a_id = artist['id']\n",
    "            break\n",
    "\n",
    "    assert(a_id is not None), 'target artist not found in database.'\n",
    "\n",
    "    to_compare = [artist_songs[pair[1]] for pair in artist_songs if pair[0] is a_id]\n",
    "    return [songs[pair[1]].get('name') for pair in artist_songs if songs[pair[0]].get('name') in ]"
   ]
  }
 ]
}
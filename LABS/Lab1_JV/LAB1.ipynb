{
 "metadata": {
  "language_info": {
   "codemirror_mode": {
    "name": "ipython",
    "version": 3
   },
   "file_extension": ".py",
   "mimetype": "text/x-python",
   "name": "python",
   "nbconvert_exporter": "python",
   "pygments_lexer": "ipython3",
   "version": "3.7.6-final"
  },
  "orig_nbformat": 2,
  "kernelspec": {
   "name": "python_defaultSpec_1599582093146",
   "display_name": "Python 3.7.6 64-bit"
  }
 },
 "nbformat": 4,
 "nbformat_minor": 2,
 "cells": [
  {
   "cell_type": "markdown",
   "metadata": {},
   "source": [
    "# Lab 1\n",
    "\n",
    "Author: Justin Ventura [[jventura3@gulls.salisbury.edu]]\n",
    "\n",
    "Date: Thursday, September 3rd, 2020.\n",
    "\n",
    "## - Description -\n",
    "\n",
    "Introductory lab going over very simple concepts for review."
   ]
  },
  {
   "cell_type": "markdown",
   "metadata": {},
   "source": [
    "### First make a list of 10 musicians (dictionaries):"
   ]
  },
  {
   "cell_type": "code",
   "execution_count": 17,
   "metadata": {},
   "outputs": [],
   "source": [
    "artists = [\n",
    "    {'id': 0, 'name': 'Juice WRLD'},\n",
    "    {'id': 1, 'name': 'XXXTentacion'},\n",
    "    {'id': 2, 'name': '21 Savage'},\n",
    "    {'id': 3, 'name': 'Lil Baby'},\n",
    "    {'id': 4, 'name': 'The Kid Laroi'},\n",
    "    {'id': 5, 'name': 'Rich Brian'},\n",
    "    {'id': 6, 'name': 'Trippie Redd'},\n",
    "    {'id': 7, 'name': 'Gunna'},\n",
    "    {'id': 8, 'name': 'Travis Scott'},\n",
    "    {'id': 9, 'name': 'Rich The Kid'},\n",
    "    {'id': 10, 'name': 'Iann Dior'},\n",
    "]"
   ]
  },
  {
   "cell_type": "markdown",
   "metadata": {},
   "source": [
    "### Now a list of songs:"
   ]
  },
  {
   "cell_type": "code",
   "execution_count": 18,
   "metadata": {},
   "outputs": [],
   "source": [
    "songs = [\n",
    "    {'id': 0, 'name': 'Robbery'},\n",
    "    {'id': 1, 'name': 'Bankroll'},\n",
    "    {'id': 2, 'name': 'Drip Too Hard'},\n",
    "    {'id': 3, 'name': 'Go'},\n",
    "    {'id': 4, 'name': 'F*** Love'},\n",
    "    {'id': 5, 'name': 'We Should'},\n",
    "    {'id': 6, 'name': 'Prospect'},\n",
    "    {'id': 7, 'name': 'Dark Knight Dummo'},\n",
    "    {'id': 8, 'name': 'Blast Off'},\n",
    "    {'id': 9, 'name': 'Changes'},\n",
    "    {'id': 10, 'name': 'Plug Walk'},\n",
    "    {'id': 11, 'name': 'Strings'},\n",
    "    {'id': 12, 'name': 'Yosemite'},\n",
    "    {'id': 13, 'name': 'Stay For A While'},\n",
    "    {'id': 14, 'name': 'All My Friends'},\n",
    "    {'id': 15, 'name': 'Cant Leave Without It'}\n",
    "]"
   ]
  },
  {
   "cell_type": "markdown",
   "metadata": {},
   "source": [
    "### Now here are the pairs of (artist id, song id) relationships:"
   ]
  },
  {
   "cell_type": "code",
   "execution_count": 19,
   "metadata": {},
   "outputs": [],
   "source": [
    "# form (artist, song)\n",
    "artist_songs = [\n",
    "    (0,0), (0,3), (0,8),\n",
    "    (1,4), (1,9),\n",
    "    (2,14), (2,15),\n",
    "    (3,2), (3,5), (3,6), (3,15),\n",
    "    (4,3),\n",
    "    (5,1),\n",
    "    (6,4), (6,7), (6,8),\n",
    "    (7,2), (7,11), (7,12), (7,15),\n",
    "    (8,7),\n",
    "    (9,1), (9,10), \n",
    "    (10,6), (10,11), (10,13),\n",
    "]"
   ]
  },
  {
   "cell_type": "markdown",
   "metadata": {},
   "source": [
    "### Now we can make a subroutine <code> who_covered </code> to return a list of artists who worked on the song passed in as an argument."
   ]
  },
  {
   "cell_type": "code",
   "execution_count": 20,
   "metadata": {
    "tags": []
   },
   "outputs": [
    {
     "output_type": "stream",
     "name": "stdout",
     "text": "['XXXTentacion', 'Trippie Redd']\n"
    }
   ],
   "source": [
    "def who_covered(target_song: str) -> list:\n",
    "    target = next(song['id'] for song in songs if song['name'] == target_song)\n",
    "    return [artists[pair[0]]['name'] for pair in artist_songs if pair[1] is target]\n",
    "\n",
    "print(who_covered('F*** Love')) # Should print XXXTentacion and Trippie Redd"
   ]
  },
  {
   "cell_type": "markdown",
   "metadata": {},
   "source": [
    "### Now we can make a subroutine <code> shared_songs </code> to take in an artists name, then return songs they have which are also shared with other artists."
   ]
  },
  {
   "cell_type": "code",
   "execution_count": 21,
   "metadata": {
    "tags": []
   },
   "outputs": [
    {
     "output_type": "stream",
     "name": "stdout",
     "text": "['Go', 'Blast Off']\n"
    }
   ],
   "source": [
    "def shared_songs(target_artist: str) -> list:\n",
    "    target = next(artist['id'] for artist in artists if artist['name'] == target_artist)\n",
    "    to_compare = [pair[1] for pair in artist_songs if pair[0] is target]\n",
    "\n",
    "    return [songs[pair[1]].get('name') for pair in artist_songs if songs[pair[1]].get('id') in                   to_compare and songs[pair[0]].get('id') != target]\n",
    "\n",
    "print(shared_songs('Juice WRLD')) # Should print: 'Go' and 'Blast Off'"
   ]
  },
  {
   "cell_type": "markdown",
   "metadata": {},
   "source": [
    "### Now we can make a subroutine <code> song_popularity </code> that prints - in order from most to least covers – the name and number of times each song has been covered."
   ]
  },
  {
   "cell_type": "code",
   "execution_count": 22,
   "metadata": {
    "tags": []
   },
   "outputs": [
    {
     "output_type": "stream",
     "name": "stdout",
     "text": "Song name -->  # of covers  \n------------------------\nCant Leave Without It --> 3\nBankroll --> 2\nDrip Too Hard --> 2\nGo --> 2\nF*** Love --> 2\nProspect --> 2\nDark Knight Dummo --> 2\nBlast Off --> 2\nStrings --> 2\nRobbery --> 1\nWe Should --> 1\nChanges --> 1\nPlug Walk --> 1\nYosemite --> 1\nStay For A While --> 1\nAll My Friends --> 1\n"
    }
   ],
   "source": [
    "def song_popularity():\n",
    "    ranks = {}\n",
    "    for i in range(len(songs)):\n",
    "        ranks[songs[i]['name']] = 0\n",
    "    \n",
    "    for pair in artist_songs:\n",
    "        ranks[songs[pair[1]].get('name')] += 1\n",
    "\n",
    "    ranks = {name: cnt for name, cnt in sorted(ranks.items(),key=lambda item: item[1],reverse=True)}\n",
    "    \n",
    "    print('Song name -->  # of covers  ', end='\\n------------------------\\n')\n",
    "    for name, cnt in ranks.items():\n",
    "        print(name, cnt, sep=' --> ')\n",
    "\n",
    "song_popularity()"
   ]
  },
  {
   "cell_type": "markdown",
   "metadata": {},
   "source": [
    "### The following code will include data about each individual artist; keywords that describe their music."
   ]
  },
  {
   "cell_type": "code",
   "execution_count": 23,
   "metadata": {
    "tags": []
   },
   "outputs": [],
   "source": [
    "keywords = [\n",
    "    (0, 'sad'), (0, 'rnb'), (0, 'melodic'), (0, 'piano'),\n",
    "    (1, 'sad'), (1, 'punk rock'), (1, 'acoustic'), (1, 'guitar'), (1, 'piano'),\n",
    "    (2, 'trap'), (2,'dark'),\n",
    "    (3, 'trap'), (3, 'piano'), (3, 'melodic'),\n",
    "    (4, 'sad'), (4, 'rnb'), (4, 'melodic'), (4, 'pop'),\n",
    "    (5, 'pop'), (5, 'acoustic'), (5, 'piano'),\n",
    "    (6, 'sad'), (6, 'rnb'),\n",
    "    (7, 'trap'), (7, 'guitar'),\n",
    "    (8, 'trap'), (8, 'dark'),\n",
    "    (9, 'trap'), (9, 'tenor'),\n",
    "    (10, 'sad'), (10, 'rnb'), (10, 'melodic'), (10, 'pop'), (10, 'acoustic'), (10, 'guitar'),\n",
    "]"
   ]
  },
  {
   "cell_type": "markdown",
   "metadata": {},
   "source": [
    "### Now we will write a function which, given an artist, will return a list of the top 3 similar artists."
   ]
  },
  {
   "cell_type": "code",
   "execution_count": 24,
   "metadata": {
    "tags": []
   },
   "outputs": [
    {
     "output_type": "stream",
     "name": "stdout",
     "text": "['Iann Dior', 'Juice WRLD', 'Trippie Redd']\n"
    }
   ],
   "source": [
    "from collections import defaultdict\n",
    "\n",
    "def similar_artists(target_artist: str) -> list:\n",
    "    target_id = next(artist['id'] for artist in artists if artist['name'] == target_artist)\n",
    "\n",
    "    grouping = defaultdict(list)\n",
    "    for id, keyword in keywords:\n",
    "        grouping[id].append(keyword)\n",
    "\n",
    "    target = (target_id, grouping[target_id])\n",
    "    grouping.pop(target_id, None)\n",
    "\n",
    "    scores = {key: {key: 0} for key, val in grouping.items()}\n",
    "\n",
    "    for id, tags in grouping.items():\n",
    "        for tag in tags:\n",
    "            if tag in target[1]:\n",
    "                scores[id][id] += 1\n",
    "\n",
    "    fresh = [dic for _, dic in scores.items()]\n",
    "\n",
    "    new = []\n",
    "    for elem in fresh:\n",
    "        new += (elem.items())\n",
    "\n",
    "    new.sort(key=lambda item: item[1], reverse=True)\n",
    "    while len(new) > 3:\n",
    "        new.pop(-1)\n",
    "\n",
    "    return [artists[id]['name'] for id, score in new]\n",
    "\n",
    "    # TODO: sort the scores\n",
    "    # print(fresh)\n",
    "\n",
    "print(similar_artists('The Kid Laroi')) # Should print Iann Dior, Juice WRLD, Trippie Redd"
   ]
  },
  {
   "cell_type": "markdown",
   "metadata": {},
   "source": [
    "### How can we visualize the “type” of each song? What styles and what types of artists tend to play each song?\n",
    "\n",
    "Well, to visualize each song, one great option could be to use a radar chart.  This is useful because the radar could have every keyword in the database be a variable on the chart, then take each artist who worked on the song, take their kewords, and add each keyword to its respective axis on the chart. The flaw with this, however, is that the more keywords in the database, the harder it becomes to read the data.  So this would be best to use with limited keywords (in this specific example, there are a reasonable amount of keywords to create a readable radar chart).  If the number of possible keywords  was arbitrarily large for a song with an arbitrarily large and a uniformly distributed pool of artists, we could consider using a bar chart.  This way, you could consider each 'bucket' to be a space for a keyword, then the greater the y-value (height) the bar in the bucket (discrete x-point), the more that keyword is associated with the song in question.  In both of these cases, we could implement some sort of database with specific 'types' of songs, which then are assigned a specific shape of radar chart/histogram.  Then each visualization could be compared against the predetermined 'types.'  Then if there is no exact match, calculate the error against each type, and whichever has minimal error could be a likely candidate to give it a type.  You could also come up with a machine learning algorithm that, very generally (since I am still very new to machine learning at this time), could be trained to learn types of songs and their respective graphs.  Then test it on songs which it has never 'seen' before to access its accuracy.\n",
    "\n",
    "### For a specific example, what visualization can answer the question: What style of song is “Simple Twist of Fate”? Does it have a style or does it “defy genre”?\n",
    "\n",
    "Any of the previously mentioned could be used for this.  Which one is the best and most readable?  I don't know yet, however after more experience with problems like this, I think I would be able to give a good answer to that question in due time.  \n",
    "\n",
    "### Final questions:\n",
    "\n",
    "- (a) Sketch by hand or digitally an example of your idea, using the data you entered above.\n"
   ]
  },
  {
   "cell_type": "code",
   "execution_count": 25,
   "metadata": {
    "tags": []
   },
   "outputs": [
    {
     "output_type": "display_data",
     "data": {
      "text/plain": "<Figure size 432x288 with 1 Axes>",
      "image/svg+xml": "<?xml version=\"1.0\" encoding=\"utf-8\" standalone=\"no\"?>\n<!DOCTYPE svg PUBLIC \"-//W3C//DTD SVG 1.1//EN\"\n  \"http://www.w3.org/Graphics/SVG/1.1/DTD/svg11.dtd\">\n<!-- Created with matplotlib (https://matplotlib.org/) -->\n<svg height=\"303.465937pt\" version=\"1.1\" viewBox=\"0 0 385.78125 303.465937\" width=\"385.78125pt\" xmlns=\"http://www.w3.org/2000/svg\" xmlns:xlink=\"http://www.w3.org/1999/xlink\">\n <defs>\n  <style type=\"text/css\">\n*{stroke-linecap:butt;stroke-linejoin:round;}\n  </style>\n </defs>\n <g id=\"figure_1\">\n  <g id=\"patch_1\">\n   <path d=\"M 0 303.465937 \nL 385.78125 303.465937 \nL 385.78125 0 \nL 0 0 \nz\n\" style=\"fill:none;\"/>\n  </g>\n  <g id=\"axes_1\">\n   <g id=\"patch_2\">\n    <path d=\"M 43.78125 239.758125 \nL 378.58125 239.758125 \nL 378.58125 22.318125 \nL 43.78125 22.318125 \nz\n\" style=\"fill:#ffffff;\"/>\n   </g>\n   <g id=\"patch_3\">\n    <path clip-path=\"url(#pd9dcf0a31d)\" d=\"M 58.999432 239.758125 \nL 81.544886 239.758125 \nL 81.544886 170.729554 \nL 58.999432 170.729554 \nz\n\" style=\"fill:#1f77b4;opacity:0.5;\"/>\n   </g>\n   <g id=\"patch_4\">\n    <path clip-path=\"url(#pd9dcf0a31d)\" d=\"M 87.18125 239.758125 \nL 109.726705 239.758125 \nL 109.726705 170.729554 \nL 87.18125 170.729554 \nz\n\" style=\"fill:#1f77b4;opacity:0.5;\"/>\n   </g>\n   <g id=\"patch_5\">\n    <path clip-path=\"url(#pd9dcf0a31d)\" d=\"M 115.363068 239.758125 \nL 137.908523 239.758125 \nL 137.908523 239.758125 \nL 115.363068 239.758125 \nz\n\" style=\"fill:#1f77b4;opacity:0.5;\"/>\n   </g>\n   <g id=\"patch_6\">\n    <path clip-path=\"url(#pd9dcf0a31d)\" d=\"M 143.544886 239.758125 \nL 166.090341 239.758125 \nL 166.090341 32.672411 \nL 143.544886 32.672411 \nz\n\" style=\"fill:#1f77b4;opacity:0.5;\"/>\n   </g>\n   <g id=\"patch_7\">\n    <path clip-path=\"url(#pd9dcf0a31d)\" d=\"M 171.726705 239.758125 \nL 194.272159 239.758125 \nL 194.272159 170.729554 \nL 171.726705 170.729554 \nz\n\" style=\"fill:#1f77b4;opacity:0.5;\"/>\n   </g>\n   <g id=\"patch_8\">\n    <path clip-path=\"url(#pd9dcf0a31d)\" d=\"M 199.908523 239.758125 \nL 222.453977 239.758125 \nL 222.453977 239.758125 \nL 199.908523 239.758125 \nz\n\" style=\"fill:#1f77b4;opacity:0.5;\"/>\n   </g>\n   <g id=\"patch_9\">\n    <path clip-path=\"url(#pd9dcf0a31d)\" d=\"M 228.090341 239.758125 \nL 250.635795 239.758125 \nL 250.635795 239.758125 \nL 228.090341 239.758125 \nz\n\" style=\"fill:#1f77b4;opacity:0.5;\"/>\n   </g>\n   <g id=\"patch_10\">\n    <path clip-path=\"url(#pd9dcf0a31d)\" d=\"M 256.272159 239.758125 \nL 278.817614 239.758125 \nL 278.817614 239.758125 \nL 256.272159 239.758125 \nz\n\" style=\"fill:#1f77b4;opacity:0.5;\"/>\n   </g>\n   <g id=\"patch_11\">\n    <path clip-path=\"url(#pd9dcf0a31d)\" d=\"M 284.453977 239.758125 \nL 306.999432 239.758125 \nL 306.999432 239.758125 \nL 284.453977 239.758125 \nz\n\" style=\"fill:#1f77b4;opacity:0.5;\"/>\n   </g>\n   <g id=\"patch_12\">\n    <path clip-path=\"url(#pd9dcf0a31d)\" d=\"M 312.635795 239.758125 \nL 335.18125 239.758125 \nL 335.18125 239.758125 \nL 312.635795 239.758125 \nz\n\" style=\"fill:#1f77b4;opacity:0.5;\"/>\n   </g>\n   <g id=\"patch_13\">\n    <path clip-path=\"url(#pd9dcf0a31d)\" d=\"M 340.817614 239.758125 \nL 363.363068 239.758125 \nL 363.363068 170.729554 \nL 340.817614 170.729554 \nz\n\" style=\"fill:#1f77b4;opacity:0.5;\"/>\n   </g>\n   <g id=\"matplotlib.axis_1\">\n    <g id=\"xtick_1\">\n     <g id=\"line2d_1\">\n      <defs>\n       <path d=\"M 0 0 \nL 0 3.5 \n\" id=\"mdbec9e0c32\" style=\"stroke:#000000;stroke-width:0.8;\"/>\n      </defs>\n      <g>\n       <use style=\"stroke:#000000;stroke-width:0.8;\" x=\"70.272159\" xlink:href=\"#mdbec9e0c32\" y=\"239.758125\"/>\n      </g>\n     </g>\n     <g id=\"text_1\">\n      <!-- piano -->\n      <defs>\n       <path d=\"M 18.109375 8.203125 \nL 18.109375 -20.796875 \nL 9.078125 -20.796875 \nL 9.078125 54.6875 \nL 18.109375 54.6875 \nL 18.109375 46.390625 \nQ 20.953125 51.265625 25.265625 53.625 \nQ 29.59375 56 35.59375 56 \nQ 45.5625 56 51.78125 48.09375 \nQ 58.015625 40.1875 58.015625 27.296875 \nQ 58.015625 14.40625 51.78125 6.484375 \nQ 45.5625 -1.421875 35.59375 -1.421875 \nQ 29.59375 -1.421875 25.265625 0.953125 \nQ 20.953125 3.328125 18.109375 8.203125 \nz\nM 48.6875 27.296875 \nQ 48.6875 37.203125 44.609375 42.84375 \nQ 40.53125 48.484375 33.40625 48.484375 \nQ 26.265625 48.484375 22.1875 42.84375 \nQ 18.109375 37.203125 18.109375 27.296875 \nQ 18.109375 17.390625 22.1875 11.75 \nQ 26.265625 6.109375 33.40625 6.109375 \nQ 40.53125 6.109375 44.609375 11.75 \nQ 48.6875 17.390625 48.6875 27.296875 \nz\n\" id=\"DejaVuSans-112\"/>\n       <path d=\"M 9.421875 54.6875 \nL 18.40625 54.6875 \nL 18.40625 0 \nL 9.421875 0 \nz\nM 9.421875 75.984375 \nL 18.40625 75.984375 \nL 18.40625 64.59375 \nL 9.421875 64.59375 \nz\n\" id=\"DejaVuSans-105\"/>\n       <path d=\"M 34.28125 27.484375 \nQ 23.390625 27.484375 19.1875 25 \nQ 14.984375 22.515625 14.984375 16.5 \nQ 14.984375 11.71875 18.140625 8.90625 \nQ 21.296875 6.109375 26.703125 6.109375 \nQ 34.1875 6.109375 38.703125 11.40625 \nQ 43.21875 16.703125 43.21875 25.484375 \nL 43.21875 27.484375 \nz\nM 52.203125 31.203125 \nL 52.203125 0 \nL 43.21875 0 \nL 43.21875 8.296875 \nQ 40.140625 3.328125 35.546875 0.953125 \nQ 30.953125 -1.421875 24.3125 -1.421875 \nQ 15.921875 -1.421875 10.953125 3.296875 \nQ 6 8.015625 6 15.921875 \nQ 6 25.140625 12.171875 29.828125 \nQ 18.359375 34.515625 30.609375 34.515625 \nL 43.21875 34.515625 \nL 43.21875 35.40625 \nQ 43.21875 41.609375 39.140625 45 \nQ 35.0625 48.390625 27.6875 48.390625 \nQ 23 48.390625 18.546875 47.265625 \nQ 14.109375 46.140625 10.015625 43.890625 \nL 10.015625 52.203125 \nQ 14.9375 54.109375 19.578125 55.046875 \nQ 24.21875 56 28.609375 56 \nQ 40.484375 56 46.34375 49.84375 \nQ 52.203125 43.703125 52.203125 31.203125 \nz\n\" id=\"DejaVuSans-97\"/>\n       <path d=\"M 54.890625 33.015625 \nL 54.890625 0 \nL 45.90625 0 \nL 45.90625 32.71875 \nQ 45.90625 40.484375 42.875 44.328125 \nQ 39.84375 48.1875 33.796875 48.1875 \nQ 26.515625 48.1875 22.3125 43.546875 \nQ 18.109375 38.921875 18.109375 30.90625 \nL 18.109375 0 \nL 9.078125 0 \nL 9.078125 54.6875 \nL 18.109375 54.6875 \nL 18.109375 46.1875 \nQ 21.34375 51.125 25.703125 53.5625 \nQ 30.078125 56 35.796875 56 \nQ 45.21875 56 50.046875 50.171875 \nQ 54.890625 44.34375 54.890625 33.015625 \nz\n\" id=\"DejaVuSans-110\"/>\n       <path d=\"M 30.609375 48.390625 \nQ 23.390625 48.390625 19.1875 42.75 \nQ 14.984375 37.109375 14.984375 27.296875 \nQ 14.984375 17.484375 19.15625 11.84375 \nQ 23.34375 6.203125 30.609375 6.203125 \nQ 37.796875 6.203125 41.984375 11.859375 \nQ 46.1875 17.53125 46.1875 27.296875 \nQ 46.1875 37.015625 41.984375 42.703125 \nQ 37.796875 48.390625 30.609375 48.390625 \nz\nM 30.609375 56 \nQ 42.328125 56 49.015625 48.375 \nQ 55.71875 40.765625 55.71875 27.296875 \nQ 55.71875 13.875 49.015625 6.21875 \nQ 42.328125 -1.421875 30.609375 -1.421875 \nQ 18.84375 -1.421875 12.171875 6.21875 \nQ 5.515625 13.875 5.515625 27.296875 \nQ 5.515625 40.765625 12.171875 48.375 \nQ 18.84375 56 30.609375 56 \nz\n\" id=\"DejaVuSans-111\"/>\n      </defs>\n      <g transform=\"translate(73.031534 274.469063)rotate(-90)scale(0.1 -0.1)\">\n       <use xlink:href=\"#DejaVuSans-112\"/>\n       <use x=\"63.476562\" xlink:href=\"#DejaVuSans-105\"/>\n       <use x=\"91.259766\" xlink:href=\"#DejaVuSans-97\"/>\n       <use x=\"152.539062\" xlink:href=\"#DejaVuSans-110\"/>\n       <use x=\"215.917969\" xlink:href=\"#DejaVuSans-111\"/>\n      </g>\n     </g>\n    </g>\n    <g id=\"xtick_2\">\n     <g id=\"line2d_2\">\n      <g>\n       <use style=\"stroke:#000000;stroke-width:0.8;\" x=\"98.453977\" xlink:href=\"#mdbec9e0c32\" y=\"239.758125\"/>\n      </g>\n     </g>\n     <g id=\"text_2\">\n      <!-- guitar -->\n      <defs>\n       <path d=\"M 45.40625 27.984375 \nQ 45.40625 37.75 41.375 43.109375 \nQ 37.359375 48.484375 30.078125 48.484375 \nQ 22.859375 48.484375 18.828125 43.109375 \nQ 14.796875 37.75 14.796875 27.984375 \nQ 14.796875 18.265625 18.828125 12.890625 \nQ 22.859375 7.515625 30.078125 7.515625 \nQ 37.359375 7.515625 41.375 12.890625 \nQ 45.40625 18.265625 45.40625 27.984375 \nz\nM 54.390625 6.78125 \nQ 54.390625 -7.171875 48.1875 -13.984375 \nQ 42 -20.796875 29.203125 -20.796875 \nQ 24.46875 -20.796875 20.265625 -20.09375 \nQ 16.0625 -19.390625 12.109375 -17.921875 \nL 12.109375 -9.1875 \nQ 16.0625 -11.328125 19.921875 -12.34375 \nQ 23.78125 -13.375 27.78125 -13.375 \nQ 36.625 -13.375 41.015625 -8.765625 \nQ 45.40625 -4.15625 45.40625 5.171875 \nL 45.40625 9.625 \nQ 42.625 4.78125 38.28125 2.390625 \nQ 33.9375 0 27.875 0 \nQ 17.828125 0 11.671875 7.65625 \nQ 5.515625 15.328125 5.515625 27.984375 \nQ 5.515625 40.671875 11.671875 48.328125 \nQ 17.828125 56 27.875 56 \nQ 33.9375 56 38.28125 53.609375 \nQ 42.625 51.21875 45.40625 46.390625 \nL 45.40625 54.6875 \nL 54.390625 54.6875 \nz\n\" id=\"DejaVuSans-103\"/>\n       <path d=\"M 8.5 21.578125 \nL 8.5 54.6875 \nL 17.484375 54.6875 \nL 17.484375 21.921875 \nQ 17.484375 14.15625 20.5 10.265625 \nQ 23.53125 6.390625 29.59375 6.390625 \nQ 36.859375 6.390625 41.078125 11.03125 \nQ 45.3125 15.671875 45.3125 23.6875 \nL 45.3125 54.6875 \nL 54.296875 54.6875 \nL 54.296875 0 \nL 45.3125 0 \nL 45.3125 8.40625 \nQ 42.046875 3.421875 37.71875 1 \nQ 33.40625 -1.421875 27.6875 -1.421875 \nQ 18.265625 -1.421875 13.375 4.4375 \nQ 8.5 10.296875 8.5 21.578125 \nz\nM 31.109375 56 \nz\n\" id=\"DejaVuSans-117\"/>\n       <path d=\"M 18.3125 70.21875 \nL 18.3125 54.6875 \nL 36.8125 54.6875 \nL 36.8125 47.703125 \nL 18.3125 47.703125 \nL 18.3125 18.015625 \nQ 18.3125 11.328125 20.140625 9.421875 \nQ 21.96875 7.515625 27.59375 7.515625 \nL 36.8125 7.515625 \nL 36.8125 0 \nL 27.59375 0 \nQ 17.1875 0 13.234375 3.875 \nQ 9.28125 7.765625 9.28125 18.015625 \nL 9.28125 47.703125 \nL 2.6875 47.703125 \nL 2.6875 54.6875 \nL 9.28125 54.6875 \nL 9.28125 70.21875 \nz\n\" id=\"DejaVuSans-116\"/>\n       <path d=\"M 41.109375 46.296875 \nQ 39.59375 47.171875 37.8125 47.578125 \nQ 36.03125 48 33.890625 48 \nQ 26.265625 48 22.1875 43.046875 \nQ 18.109375 38.09375 18.109375 28.8125 \nL 18.109375 0 \nL 9.078125 0 \nL 9.078125 54.6875 \nL 18.109375 54.6875 \nL 18.109375 46.1875 \nQ 20.953125 51.171875 25.484375 53.578125 \nQ 30.03125 56 36.53125 56 \nQ 37.453125 56 38.578125 55.875 \nQ 39.703125 55.765625 41.0625 55.515625 \nz\n\" id=\"DejaVuSans-114\"/>\n      </defs>\n      <g transform=\"translate(101.213352 276.381562)rotate(-90)scale(0.1 -0.1)\">\n       <use xlink:href=\"#DejaVuSans-103\"/>\n       <use x=\"63.476562\" xlink:href=\"#DejaVuSans-117\"/>\n       <use x=\"126.855469\" xlink:href=\"#DejaVuSans-105\"/>\n       <use x=\"154.638672\" xlink:href=\"#DejaVuSans-116\"/>\n       <use x=\"193.847656\" xlink:href=\"#DejaVuSans-97\"/>\n       <use x=\"255.126953\" xlink:href=\"#DejaVuSans-114\"/>\n      </g>\n     </g>\n    </g>\n    <g id=\"xtick_3\">\n     <g id=\"line2d_3\">\n      <g>\n       <use style=\"stroke:#000000;stroke-width:0.8;\" x=\"126.635795\" xlink:href=\"#mdbec9e0c32\" y=\"239.758125\"/>\n      </g>\n     </g>\n     <g id=\"text_3\">\n      <!-- pop -->\n      <g transform=\"translate(129.39517 265.57375)rotate(-90)scale(0.1 -0.1)\">\n       <use xlink:href=\"#DejaVuSans-112\"/>\n       <use x=\"63.476562\" xlink:href=\"#DejaVuSans-111\"/>\n       <use x=\"124.658203\" xlink:href=\"#DejaVuSans-112\"/>\n      </g>\n     </g>\n    </g>\n    <g id=\"xtick_4\">\n     <g id=\"line2d_4\">\n      <g>\n       <use style=\"stroke:#000000;stroke-width:0.8;\" x=\"154.817614\" xlink:href=\"#mdbec9e0c32\" y=\"239.758125\"/>\n      </g>\n     </g>\n     <g id=\"text_4\">\n      <!-- trap -->\n      <g transform=\"translate(157.576989 267.265938)rotate(-90)scale(0.1 -0.1)\">\n       <use xlink:href=\"#DejaVuSans-116\"/>\n       <use x=\"39.208984\" xlink:href=\"#DejaVuSans-114\"/>\n       <use x=\"80.322266\" xlink:href=\"#DejaVuSans-97\"/>\n       <use x=\"141.601562\" xlink:href=\"#DejaVuSans-112\"/>\n      </g>\n     </g>\n    </g>\n    <g id=\"xtick_5\">\n     <g id=\"line2d_5\">\n      <g>\n       <use style=\"stroke:#000000;stroke-width:0.8;\" x=\"182.999432\" xlink:href=\"#mdbec9e0c32\" y=\"239.758125\"/>\n      </g>\n     </g>\n     <g id=\"text_5\">\n      <!-- dark -->\n      <defs>\n       <path d=\"M 45.40625 46.390625 \nL 45.40625 75.984375 \nL 54.390625 75.984375 \nL 54.390625 0 \nL 45.40625 0 \nL 45.40625 8.203125 \nQ 42.578125 3.328125 38.25 0.953125 \nQ 33.9375 -1.421875 27.875 -1.421875 \nQ 17.96875 -1.421875 11.734375 6.484375 \nQ 5.515625 14.40625 5.515625 27.296875 \nQ 5.515625 40.1875 11.734375 48.09375 \nQ 17.96875 56 27.875 56 \nQ 33.9375 56 38.25 53.625 \nQ 42.578125 51.265625 45.40625 46.390625 \nz\nM 14.796875 27.296875 \nQ 14.796875 17.390625 18.875 11.75 \nQ 22.953125 6.109375 30.078125 6.109375 \nQ 37.203125 6.109375 41.296875 11.75 \nQ 45.40625 17.390625 45.40625 27.296875 \nQ 45.40625 37.203125 41.296875 42.84375 \nQ 37.203125 48.484375 30.078125 48.484375 \nQ 22.953125 48.484375 18.875 42.84375 \nQ 14.796875 37.203125 14.796875 27.296875 \nz\n\" id=\"DejaVuSans-100\"/>\n       <path d=\"M 9.078125 75.984375 \nL 18.109375 75.984375 \nL 18.109375 31.109375 \nL 44.921875 54.6875 \nL 56.390625 54.6875 \nL 27.390625 29.109375 \nL 57.625 0 \nL 45.90625 0 \nL 18.109375 26.703125 \nL 18.109375 0 \nL 9.078125 0 \nz\n\" id=\"DejaVuSans-107\"/>\n      </defs>\n      <g transform=\"translate(185.758807 269.13625)rotate(-90)scale(0.1 -0.1)\">\n       <use xlink:href=\"#DejaVuSans-100\"/>\n       <use x=\"63.476562\" xlink:href=\"#DejaVuSans-97\"/>\n       <use x=\"124.755859\" xlink:href=\"#DejaVuSans-114\"/>\n       <use x=\"165.869141\" xlink:href=\"#DejaVuSans-107\"/>\n      </g>\n     </g>\n    </g>\n    <g id=\"xtick_6\">\n     <g id=\"line2d_6\">\n      <g>\n       <use style=\"stroke:#000000;stroke-width:0.8;\" x=\"211.18125\" xlink:href=\"#mdbec9e0c32\" y=\"239.758125\"/>\n      </g>\n     </g>\n     <g id=\"text_6\">\n      <!-- punk rock -->\n      <defs>\n       <path id=\"DejaVuSans-32\"/>\n       <path d=\"M 48.78125 52.59375 \nL 48.78125 44.1875 \nQ 44.96875 46.296875 41.140625 47.34375 \nQ 37.3125 48.390625 33.40625 48.390625 \nQ 24.65625 48.390625 19.8125 42.84375 \nQ 14.984375 37.3125 14.984375 27.296875 \nQ 14.984375 17.28125 19.8125 11.734375 \nQ 24.65625 6.203125 33.40625 6.203125 \nQ 37.3125 6.203125 41.140625 7.25 \nQ 44.96875 8.296875 48.78125 10.40625 \nL 48.78125 2.09375 \nQ 45.015625 0.34375 40.984375 -0.53125 \nQ 36.96875 -1.421875 32.421875 -1.421875 \nQ 20.0625 -1.421875 12.78125 6.34375 \nQ 5.515625 14.109375 5.515625 27.296875 \nQ 5.515625 40.671875 12.859375 48.328125 \nQ 20.21875 56 33.015625 56 \nQ 37.15625 56 41.109375 55.140625 \nQ 45.0625 54.296875 48.78125 52.59375 \nz\n\" id=\"DejaVuSans-99\"/>\n      </defs>\n      <g transform=\"translate(213.940625 296.265938)rotate(-90)scale(0.1 -0.1)\">\n       <use xlink:href=\"#DejaVuSans-112\"/>\n       <use x=\"63.476562\" xlink:href=\"#DejaVuSans-117\"/>\n       <use x=\"126.855469\" xlink:href=\"#DejaVuSans-110\"/>\n       <use x=\"190.234375\" xlink:href=\"#DejaVuSans-107\"/>\n       <use x=\"248.144531\" xlink:href=\"#DejaVuSans-32\"/>\n       <use x=\"279.931641\" xlink:href=\"#DejaVuSans-114\"/>\n       <use x=\"321.013672\" xlink:href=\"#DejaVuSans-111\"/>\n       <use x=\"382.195312\" xlink:href=\"#DejaVuSans-99\"/>\n       <use x=\"437.175781\" xlink:href=\"#DejaVuSans-107\"/>\n      </g>\n     </g>\n    </g>\n    <g id=\"xtick_7\">\n     <g id=\"line2d_7\">\n      <g>\n       <use style=\"stroke:#000000;stroke-width:0.8;\" x=\"239.363068\" xlink:href=\"#mdbec9e0c32\" y=\"239.758125\"/>\n      </g>\n     </g>\n     <g id=\"text_7\">\n      <!-- rnb -->\n      <defs>\n       <path d=\"M 48.6875 27.296875 \nQ 48.6875 37.203125 44.609375 42.84375 \nQ 40.53125 48.484375 33.40625 48.484375 \nQ 26.265625 48.484375 22.1875 42.84375 \nQ 18.109375 37.203125 18.109375 27.296875 \nQ 18.109375 17.390625 22.1875 11.75 \nQ 26.265625 6.109375 33.40625 6.109375 \nQ 40.53125 6.109375 44.609375 11.75 \nQ 48.6875 17.390625 48.6875 27.296875 \nz\nM 18.109375 46.390625 \nQ 20.953125 51.265625 25.265625 53.625 \nQ 29.59375 56 35.59375 56 \nQ 45.5625 56 51.78125 48.09375 \nQ 58.015625 40.1875 58.015625 27.296875 \nQ 58.015625 14.40625 51.78125 6.484375 \nQ 45.5625 -1.421875 35.59375 -1.421875 \nQ 29.59375 -1.421875 25.265625 0.953125 \nQ 20.953125 3.328125 18.109375 8.203125 \nL 18.109375 0 \nL 9.078125 0 \nL 9.078125 75.984375 \nL 18.109375 75.984375 \nz\n\" id=\"DejaVuSans-98\"/>\n      </defs>\n      <g transform=\"translate(242.122443 263.553437)rotate(-90)scale(0.1 -0.1)\">\n       <use xlink:href=\"#DejaVuSans-114\"/>\n       <use x=\"41.097656\" xlink:href=\"#DejaVuSans-110\"/>\n       <use x=\"104.476562\" xlink:href=\"#DejaVuSans-98\"/>\n      </g>\n     </g>\n    </g>\n    <g id=\"xtick_8\">\n     <g id=\"line2d_8\">\n      <g>\n       <use style=\"stroke:#000000;stroke-width:0.8;\" x=\"267.544886\" xlink:href=\"#mdbec9e0c32\" y=\"239.758125\"/>\n      </g>\n     </g>\n     <g id=\"text_8\">\n      <!-- acoustic -->\n      <defs>\n       <path d=\"M 44.28125 53.078125 \nL 44.28125 44.578125 \nQ 40.484375 46.53125 36.375 47.5 \nQ 32.28125 48.484375 27.875 48.484375 \nQ 21.1875 48.484375 17.84375 46.4375 \nQ 14.5 44.390625 14.5 40.28125 \nQ 14.5 37.15625 16.890625 35.375 \nQ 19.28125 33.59375 26.515625 31.984375 \nL 29.59375 31.296875 \nQ 39.15625 29.25 43.1875 25.515625 \nQ 47.21875 21.78125 47.21875 15.09375 \nQ 47.21875 7.46875 41.1875 3.015625 \nQ 35.15625 -1.421875 24.609375 -1.421875 \nQ 20.21875 -1.421875 15.453125 -0.5625 \nQ 10.6875 0.296875 5.421875 2 \nL 5.421875 11.28125 \nQ 10.40625 8.6875 15.234375 7.390625 \nQ 20.0625 6.109375 24.8125 6.109375 \nQ 31.15625 6.109375 34.5625 8.28125 \nQ 37.984375 10.453125 37.984375 14.40625 \nQ 37.984375 18.0625 35.515625 20.015625 \nQ 33.0625 21.96875 24.703125 23.78125 \nL 21.578125 24.515625 \nQ 13.234375 26.265625 9.515625 29.90625 \nQ 5.8125 33.546875 5.8125 39.890625 \nQ 5.8125 47.609375 11.28125 51.796875 \nQ 16.75 56 26.8125 56 \nQ 31.78125 56 36.171875 55.265625 \nQ 40.578125 54.546875 44.28125 53.078125 \nz\n\" id=\"DejaVuSans-115\"/>\n      </defs>\n      <g transform=\"translate(270.304261 288.247187)rotate(-90)scale(0.1 -0.1)\">\n       <use xlink:href=\"#DejaVuSans-97\"/>\n       <use x=\"61.279297\" xlink:href=\"#DejaVuSans-99\"/>\n       <use x=\"116.259766\" xlink:href=\"#DejaVuSans-111\"/>\n       <use x=\"177.441406\" xlink:href=\"#DejaVuSans-117\"/>\n       <use x=\"240.820312\" xlink:href=\"#DejaVuSans-115\"/>\n       <use x=\"292.919922\" xlink:href=\"#DejaVuSans-116\"/>\n       <use x=\"332.128906\" xlink:href=\"#DejaVuSans-105\"/>\n       <use x=\"359.912109\" xlink:href=\"#DejaVuSans-99\"/>\n      </g>\n     </g>\n    </g>\n    <g id=\"xtick_9\">\n     <g id=\"line2d_9\">\n      <g>\n       <use style=\"stroke:#000000;stroke-width:0.8;\" x=\"295.726705\" xlink:href=\"#mdbec9e0c32\" y=\"239.758125\"/>\n      </g>\n     </g>\n     <g id=\"text_9\">\n      <!-- sad -->\n      <g transform=\"translate(298.48608 264.444062)rotate(-90)scale(0.1 -0.1)\">\n       <use xlink:href=\"#DejaVuSans-115\"/>\n       <use x=\"52.099609\" xlink:href=\"#DejaVuSans-97\"/>\n       <use x=\"113.378906\" xlink:href=\"#DejaVuSans-100\"/>\n      </g>\n     </g>\n    </g>\n    <g id=\"xtick_10\">\n     <g id=\"line2d_10\">\n      <g>\n       <use style=\"stroke:#000000;stroke-width:0.8;\" x=\"323.908523\" xlink:href=\"#mdbec9e0c32\" y=\"239.758125\"/>\n      </g>\n     </g>\n     <g id=\"text_10\">\n      <!-- tenor -->\n      <defs>\n       <path d=\"M 56.203125 29.59375 \nL 56.203125 25.203125 \nL 14.890625 25.203125 \nQ 15.484375 15.921875 20.484375 11.0625 \nQ 25.484375 6.203125 34.421875 6.203125 \nQ 39.59375 6.203125 44.453125 7.46875 \nQ 49.3125 8.734375 54.109375 11.28125 \nL 54.109375 2.78125 \nQ 49.265625 0.734375 44.1875 -0.34375 \nQ 39.109375 -1.421875 33.890625 -1.421875 \nQ 20.796875 -1.421875 13.15625 6.1875 \nQ 5.515625 13.8125 5.515625 26.8125 \nQ 5.515625 40.234375 12.765625 48.109375 \nQ 20.015625 56 32.328125 56 \nQ 43.359375 56 49.78125 48.890625 \nQ 56.203125 41.796875 56.203125 29.59375 \nz\nM 47.21875 32.234375 \nQ 47.125 39.59375 43.09375 43.984375 \nQ 39.0625 48.390625 32.421875 48.390625 \nQ 24.90625 48.390625 20.390625 44.140625 \nQ 15.875 39.890625 15.1875 32.171875 \nz\n\" id=\"DejaVuSans-101\"/>\n      </defs>\n      <g transform=\"translate(326.667898 273.39875)rotate(-90)scale(0.1 -0.1)\">\n       <use xlink:href=\"#DejaVuSans-116\"/>\n       <use x=\"39.208984\" xlink:href=\"#DejaVuSans-101\"/>\n       <use x=\"100.732422\" xlink:href=\"#DejaVuSans-110\"/>\n       <use x=\"164.111328\" xlink:href=\"#DejaVuSans-111\"/>\n       <use x=\"225.292969\" xlink:href=\"#DejaVuSans-114\"/>\n      </g>\n     </g>\n    </g>\n    <g id=\"xtick_11\">\n     <g id=\"line2d_11\">\n      <g>\n       <use style=\"stroke:#000000;stroke-width:0.8;\" x=\"352.090341\" xlink:href=\"#mdbec9e0c32\" y=\"239.758125\"/>\n      </g>\n     </g>\n     <g id=\"text_11\">\n      <!-- melodic -->\n      <defs>\n       <path d=\"M 52 44.1875 \nQ 55.375 50.25 60.0625 53.125 \nQ 64.75 56 71.09375 56 \nQ 79.640625 56 84.28125 50.015625 \nQ 88.921875 44.046875 88.921875 33.015625 \nL 88.921875 0 \nL 79.890625 0 \nL 79.890625 32.71875 \nQ 79.890625 40.578125 77.09375 44.375 \nQ 74.3125 48.1875 68.609375 48.1875 \nQ 61.625 48.1875 57.5625 43.546875 \nQ 53.515625 38.921875 53.515625 30.90625 \nL 53.515625 0 \nL 44.484375 0 \nL 44.484375 32.71875 \nQ 44.484375 40.625 41.703125 44.40625 \nQ 38.921875 48.1875 33.109375 48.1875 \nQ 26.21875 48.1875 22.15625 43.53125 \nQ 18.109375 38.875 18.109375 30.90625 \nL 18.109375 0 \nL 9.078125 0 \nL 9.078125 54.6875 \nL 18.109375 54.6875 \nL 18.109375 46.1875 \nQ 21.1875 51.21875 25.484375 53.609375 \nQ 29.78125 56 35.6875 56 \nQ 41.65625 56 45.828125 52.96875 \nQ 50 49.953125 52 44.1875 \nz\n\" id=\"DejaVuSans-109\"/>\n       <path d=\"M 9.421875 75.984375 \nL 18.40625 75.984375 \nL 18.40625 0 \nL 9.421875 0 \nz\n\" id=\"DejaVuSans-108\"/>\n      </defs>\n      <g transform=\"translate(354.849716 286.17375)rotate(-90)scale(0.1 -0.1)\">\n       <use xlink:href=\"#DejaVuSans-109\"/>\n       <use x=\"97.412109\" xlink:href=\"#DejaVuSans-101\"/>\n       <use x=\"158.935547\" xlink:href=\"#DejaVuSans-108\"/>\n       <use x=\"186.71875\" xlink:href=\"#DejaVuSans-111\"/>\n       <use x=\"247.900391\" xlink:href=\"#DejaVuSans-100\"/>\n       <use x=\"311.376953\" xlink:href=\"#DejaVuSans-105\"/>\n       <use x=\"339.160156\" xlink:href=\"#DejaVuSans-99\"/>\n      </g>\n     </g>\n    </g>\n   </g>\n   <g id=\"matplotlib.axis_2\">\n    <g id=\"ytick_1\">\n     <g id=\"line2d_12\">\n      <defs>\n       <path d=\"M 0 0 \nL -3.5 0 \n\" id=\"mc325ddc167\" style=\"stroke:#000000;stroke-width:0.8;\"/>\n      </defs>\n      <g>\n       <use style=\"stroke:#000000;stroke-width:0.8;\" x=\"43.78125\" xlink:href=\"#mc325ddc167\" y=\"239.758125\"/>\n      </g>\n     </g>\n     <g id=\"text_12\">\n      <!-- 0.0 -->\n      <defs>\n       <path d=\"M 31.78125 66.40625 \nQ 24.171875 66.40625 20.328125 58.90625 \nQ 16.5 51.421875 16.5 36.375 \nQ 16.5 21.390625 20.328125 13.890625 \nQ 24.171875 6.390625 31.78125 6.390625 \nQ 39.453125 6.390625 43.28125 13.890625 \nQ 47.125 21.390625 47.125 36.375 \nQ 47.125 51.421875 43.28125 58.90625 \nQ 39.453125 66.40625 31.78125 66.40625 \nz\nM 31.78125 74.21875 \nQ 44.046875 74.21875 50.515625 64.515625 \nQ 56.984375 54.828125 56.984375 36.375 \nQ 56.984375 17.96875 50.515625 8.265625 \nQ 44.046875 -1.421875 31.78125 -1.421875 \nQ 19.53125 -1.421875 13.0625 8.265625 \nQ 6.59375 17.96875 6.59375 36.375 \nQ 6.59375 54.828125 13.0625 64.515625 \nQ 19.53125 74.21875 31.78125 74.21875 \nz\n\" id=\"DejaVuSans-48\"/>\n       <path d=\"M 10.6875 12.40625 \nL 21 12.40625 \nL 21 0 \nL 10.6875 0 \nz\n\" id=\"DejaVuSans-46\"/>\n      </defs>\n      <g transform=\"translate(20.878125 243.557344)scale(0.1 -0.1)\">\n       <use xlink:href=\"#DejaVuSans-48\"/>\n       <use x=\"63.623047\" xlink:href=\"#DejaVuSans-46\"/>\n       <use x=\"95.410156\" xlink:href=\"#DejaVuSans-48\"/>\n      </g>\n     </g>\n    </g>\n    <g id=\"ytick_2\">\n     <g id=\"line2d_13\">\n      <g>\n       <use style=\"stroke:#000000;stroke-width:0.8;\" x=\"43.78125\" xlink:href=\"#mc325ddc167\" y=\"205.243839\"/>\n      </g>\n     </g>\n     <g id=\"text_13\">\n      <!-- 0.5 -->\n      <defs>\n       <path d=\"M 10.796875 72.90625 \nL 49.515625 72.90625 \nL 49.515625 64.59375 \nL 19.828125 64.59375 \nL 19.828125 46.734375 \nQ 21.96875 47.46875 24.109375 47.828125 \nQ 26.265625 48.1875 28.421875 48.1875 \nQ 40.625 48.1875 47.75 41.5 \nQ 54.890625 34.8125 54.890625 23.390625 \nQ 54.890625 11.625 47.5625 5.09375 \nQ 40.234375 -1.421875 26.90625 -1.421875 \nQ 22.3125 -1.421875 17.546875 -0.640625 \nQ 12.796875 0.140625 7.71875 1.703125 \nL 7.71875 11.625 \nQ 12.109375 9.234375 16.796875 8.0625 \nQ 21.484375 6.890625 26.703125 6.890625 \nQ 35.15625 6.890625 40.078125 11.328125 \nQ 45.015625 15.765625 45.015625 23.390625 \nQ 45.015625 31 40.078125 35.4375 \nQ 35.15625 39.890625 26.703125 39.890625 \nQ 22.75 39.890625 18.8125 39.015625 \nQ 14.890625 38.140625 10.796875 36.28125 \nz\n\" id=\"DejaVuSans-53\"/>\n      </defs>\n      <g transform=\"translate(20.878125 209.043058)scale(0.1 -0.1)\">\n       <use xlink:href=\"#DejaVuSans-48\"/>\n       <use x=\"63.623047\" xlink:href=\"#DejaVuSans-46\"/>\n       <use x=\"95.410156\" xlink:href=\"#DejaVuSans-53\"/>\n      </g>\n     </g>\n    </g>\n    <g id=\"ytick_3\">\n     <g id=\"line2d_14\">\n      <g>\n       <use style=\"stroke:#000000;stroke-width:0.8;\" x=\"43.78125\" xlink:href=\"#mc325ddc167\" y=\"170.729554\"/>\n      </g>\n     </g>\n     <g id=\"text_14\">\n      <!-- 1.0 -->\n      <defs>\n       <path d=\"M 12.40625 8.296875 \nL 28.515625 8.296875 \nL 28.515625 63.921875 \nL 10.984375 60.40625 \nL 10.984375 69.390625 \nL 28.421875 72.90625 \nL 38.28125 72.90625 \nL 38.28125 8.296875 \nL 54.390625 8.296875 \nL 54.390625 0 \nL 12.40625 0 \nz\n\" id=\"DejaVuSans-49\"/>\n      </defs>\n      <g transform=\"translate(20.878125 174.528772)scale(0.1 -0.1)\">\n       <use xlink:href=\"#DejaVuSans-49\"/>\n       <use x=\"63.623047\" xlink:href=\"#DejaVuSans-46\"/>\n       <use x=\"95.410156\" xlink:href=\"#DejaVuSans-48\"/>\n      </g>\n     </g>\n    </g>\n    <g id=\"ytick_4\">\n     <g id=\"line2d_15\">\n      <g>\n       <use style=\"stroke:#000000;stroke-width:0.8;\" x=\"43.78125\" xlink:href=\"#mc325ddc167\" y=\"136.215268\"/>\n      </g>\n     </g>\n     <g id=\"text_15\">\n      <!-- 1.5 -->\n      <g transform=\"translate(20.878125 140.014487)scale(0.1 -0.1)\">\n       <use xlink:href=\"#DejaVuSans-49\"/>\n       <use x=\"63.623047\" xlink:href=\"#DejaVuSans-46\"/>\n       <use x=\"95.410156\" xlink:href=\"#DejaVuSans-53\"/>\n      </g>\n     </g>\n    </g>\n    <g id=\"ytick_5\">\n     <g id=\"line2d_16\">\n      <g>\n       <use style=\"stroke:#000000;stroke-width:0.8;\" x=\"43.78125\" xlink:href=\"#mc325ddc167\" y=\"101.700982\"/>\n      </g>\n     </g>\n     <g id=\"text_16\">\n      <!-- 2.0 -->\n      <defs>\n       <path d=\"M 19.1875 8.296875 \nL 53.609375 8.296875 \nL 53.609375 0 \nL 7.328125 0 \nL 7.328125 8.296875 \nQ 12.9375 14.109375 22.625 23.890625 \nQ 32.328125 33.6875 34.8125 36.53125 \nQ 39.546875 41.84375 41.421875 45.53125 \nQ 43.3125 49.21875 43.3125 52.78125 \nQ 43.3125 58.59375 39.234375 62.25 \nQ 35.15625 65.921875 28.609375 65.921875 \nQ 23.96875 65.921875 18.8125 64.3125 \nQ 13.671875 62.703125 7.8125 59.421875 \nL 7.8125 69.390625 \nQ 13.765625 71.78125 18.9375 73 \nQ 24.125 74.21875 28.421875 74.21875 \nQ 39.75 74.21875 46.484375 68.546875 \nQ 53.21875 62.890625 53.21875 53.421875 \nQ 53.21875 48.921875 51.53125 44.890625 \nQ 49.859375 40.875 45.40625 35.40625 \nQ 44.1875 33.984375 37.640625 27.21875 \nQ 31.109375 20.453125 19.1875 8.296875 \nz\n\" id=\"DejaVuSans-50\"/>\n      </defs>\n      <g transform=\"translate(20.878125 105.500201)scale(0.1 -0.1)\">\n       <use xlink:href=\"#DejaVuSans-50\"/>\n       <use x=\"63.623047\" xlink:href=\"#DejaVuSans-46\"/>\n       <use x=\"95.410156\" xlink:href=\"#DejaVuSans-48\"/>\n      </g>\n     </g>\n    </g>\n    <g id=\"ytick_6\">\n     <g id=\"line2d_17\">\n      <g>\n       <use style=\"stroke:#000000;stroke-width:0.8;\" x=\"43.78125\" xlink:href=\"#mc325ddc167\" y=\"67.186696\"/>\n      </g>\n     </g>\n     <g id=\"text_17\">\n      <!-- 2.5 -->\n      <g transform=\"translate(20.878125 70.985915)scale(0.1 -0.1)\">\n       <use xlink:href=\"#DejaVuSans-50\"/>\n       <use x=\"63.623047\" xlink:href=\"#DejaVuSans-46\"/>\n       <use x=\"95.410156\" xlink:href=\"#DejaVuSans-53\"/>\n      </g>\n     </g>\n    </g>\n    <g id=\"ytick_7\">\n     <g id=\"line2d_18\">\n      <g>\n       <use style=\"stroke:#000000;stroke-width:0.8;\" x=\"43.78125\" xlink:href=\"#mc325ddc167\" y=\"32.672411\"/>\n      </g>\n     </g>\n     <g id=\"text_18\">\n      <!-- 3.0 -->\n      <defs>\n       <path d=\"M 40.578125 39.3125 \nQ 47.65625 37.796875 51.625 33 \nQ 55.609375 28.21875 55.609375 21.1875 \nQ 55.609375 10.40625 48.1875 4.484375 \nQ 40.765625 -1.421875 27.09375 -1.421875 \nQ 22.515625 -1.421875 17.65625 -0.515625 \nQ 12.796875 0.390625 7.625 2.203125 \nL 7.625 11.71875 \nQ 11.71875 9.328125 16.59375 8.109375 \nQ 21.484375 6.890625 26.8125 6.890625 \nQ 36.078125 6.890625 40.9375 10.546875 \nQ 45.796875 14.203125 45.796875 21.1875 \nQ 45.796875 27.640625 41.28125 31.265625 \nQ 36.765625 34.90625 28.71875 34.90625 \nL 20.21875 34.90625 \nL 20.21875 43.015625 \nL 29.109375 43.015625 \nQ 36.375 43.015625 40.234375 45.921875 \nQ 44.09375 48.828125 44.09375 54.296875 \nQ 44.09375 59.90625 40.109375 62.90625 \nQ 36.140625 65.921875 28.71875 65.921875 \nQ 24.65625 65.921875 20.015625 65.03125 \nQ 15.375 64.15625 9.8125 62.3125 \nL 9.8125 71.09375 \nQ 15.4375 72.65625 20.34375 73.4375 \nQ 25.25 74.21875 29.59375 74.21875 \nQ 40.828125 74.21875 47.359375 69.109375 \nQ 53.90625 64.015625 53.90625 55.328125 \nQ 53.90625 49.265625 50.4375 45.09375 \nQ 46.96875 40.921875 40.578125 39.3125 \nz\n\" id=\"DejaVuSans-51\"/>\n      </defs>\n      <g transform=\"translate(20.878125 36.471629)scale(0.1 -0.1)\">\n       <use xlink:href=\"#DejaVuSans-51\"/>\n       <use x=\"63.623047\" xlink:href=\"#DejaVuSans-46\"/>\n       <use x=\"95.410156\" xlink:href=\"#DejaVuSans-48\"/>\n      </g>\n     </g>\n    </g>\n    <g id=\"text_19\">\n     <!-- Keyword Total From Artists -->\n     <defs>\n      <path d=\"M 9.8125 72.90625 \nL 19.671875 72.90625 \nL 19.671875 42.09375 \nL 52.390625 72.90625 \nL 65.09375 72.90625 \nL 28.90625 38.921875 \nL 67.671875 0 \nL 54.6875 0 \nL 19.671875 35.109375 \nL 19.671875 0 \nL 9.8125 0 \nz\n\" id=\"DejaVuSans-75\"/>\n      <path d=\"M 32.171875 -5.078125 \nQ 28.375 -14.84375 24.75 -17.8125 \nQ 21.140625 -20.796875 15.09375 -20.796875 \nL 7.90625 -20.796875 \nL 7.90625 -13.28125 \nL 13.1875 -13.28125 \nQ 16.890625 -13.28125 18.9375 -11.515625 \nQ 21 -9.765625 23.484375 -3.21875 \nL 25.09375 0.875 \nL 2.984375 54.6875 \nL 12.5 54.6875 \nL 29.59375 11.921875 \nL 46.6875 54.6875 \nL 56.203125 54.6875 \nz\n\" id=\"DejaVuSans-121\"/>\n      <path d=\"M 4.203125 54.6875 \nL 13.1875 54.6875 \nL 24.421875 12.015625 \nL 35.59375 54.6875 \nL 46.1875 54.6875 \nL 57.421875 12.015625 \nL 68.609375 54.6875 \nL 77.59375 54.6875 \nL 63.28125 0 \nL 52.6875 0 \nL 40.921875 44.828125 \nL 29.109375 0 \nL 18.5 0 \nz\n\" id=\"DejaVuSans-119\"/>\n      <path d=\"M -0.296875 72.90625 \nL 61.375 72.90625 \nL 61.375 64.59375 \nL 35.5 64.59375 \nL 35.5 0 \nL 25.59375 0 \nL 25.59375 64.59375 \nL -0.296875 64.59375 \nz\n\" id=\"DejaVuSans-84\"/>\n      <path d=\"M 9.8125 72.90625 \nL 51.703125 72.90625 \nL 51.703125 64.59375 \nL 19.671875 64.59375 \nL 19.671875 43.109375 \nL 48.578125 43.109375 \nL 48.578125 34.8125 \nL 19.671875 34.8125 \nL 19.671875 0 \nL 9.8125 0 \nz\n\" id=\"DejaVuSans-70\"/>\n      <path d=\"M 34.1875 63.1875 \nL 20.796875 26.90625 \nL 47.609375 26.90625 \nz\nM 28.609375 72.90625 \nL 39.796875 72.90625 \nL 67.578125 0 \nL 57.328125 0 \nL 50.6875 18.703125 \nL 17.828125 18.703125 \nL 11.1875 0 \nL 0.78125 0 \nz\n\" id=\"DejaVuSans-65\"/>\n     </defs>\n     <g transform=\"translate(14.798438 198.855313)rotate(-90)scale(0.1 -0.1)\">\n      <use xlink:href=\"#DejaVuSans-75\"/>\n      <use x=\"65.498047\" xlink:href=\"#DejaVuSans-101\"/>\n      <use x=\"127.021484\" xlink:href=\"#DejaVuSans-121\"/>\n      <use x=\"186.201172\" xlink:href=\"#DejaVuSans-119\"/>\n      <use x=\"267.988281\" xlink:href=\"#DejaVuSans-111\"/>\n      <use x=\"329.169922\" xlink:href=\"#DejaVuSans-114\"/>\n      <use x=\"370.267578\" xlink:href=\"#DejaVuSans-100\"/>\n      <use x=\"433.744141\" xlink:href=\"#DejaVuSans-32\"/>\n      <use x=\"465.53125\" xlink:href=\"#DejaVuSans-84\"/>\n      <use x=\"526.349609\" xlink:href=\"#DejaVuSans-111\"/>\n      <use x=\"587.53125\" xlink:href=\"#DejaVuSans-116\"/>\n      <use x=\"626.740234\" xlink:href=\"#DejaVuSans-97\"/>\n      <use x=\"688.019531\" xlink:href=\"#DejaVuSans-108\"/>\n      <use x=\"715.802734\" xlink:href=\"#DejaVuSans-32\"/>\n      <use x=\"747.589844\" xlink:href=\"#DejaVuSans-70\"/>\n      <use x=\"805\" xlink:href=\"#DejaVuSans-114\"/>\n      <use x=\"846.082031\" xlink:href=\"#DejaVuSans-111\"/>\n      <use x=\"907.263672\" xlink:href=\"#DejaVuSans-109\"/>\n      <use x=\"1004.675781\" xlink:href=\"#DejaVuSans-32\"/>\n      <use x=\"1036.462891\" xlink:href=\"#DejaVuSans-65\"/>\n      <use x=\"1104.871094\" xlink:href=\"#DejaVuSans-114\"/>\n      <use x=\"1145.984375\" xlink:href=\"#DejaVuSans-116\"/>\n      <use x=\"1185.193359\" xlink:href=\"#DejaVuSans-105\"/>\n      <use x=\"1212.976562\" xlink:href=\"#DejaVuSans-115\"/>\n      <use x=\"1265.076172\" xlink:href=\"#DejaVuSans-116\"/>\n      <use x=\"1304.285156\" xlink:href=\"#DejaVuSans-115\"/>\n     </g>\n    </g>\n   </g>\n   <g id=\"patch_14\">\n    <path d=\"M 43.78125 239.758125 \nL 43.78125 22.318125 \n\" style=\"fill:none;stroke:#000000;stroke-linecap:square;stroke-linejoin:miter;stroke-width:0.8;\"/>\n   </g>\n   <g id=\"patch_15\">\n    <path d=\"M 378.58125 239.758125 \nL 378.58125 22.318125 \n\" style=\"fill:none;stroke:#000000;stroke-linecap:square;stroke-linejoin:miter;stroke-width:0.8;\"/>\n   </g>\n   <g id=\"patch_16\">\n    <path d=\"M 43.78125 239.758125 \nL 378.58125 239.758125 \n\" style=\"fill:none;stroke:#000000;stroke-linecap:square;stroke-linejoin:miter;stroke-width:0.8;\"/>\n   </g>\n   <g id=\"patch_17\">\n    <path d=\"M 43.78125 22.318125 \nL 378.58125 22.318125 \n\" style=\"fill:none;stroke:#000000;stroke-linecap:square;stroke-linejoin:miter;stroke-width:0.8;\"/>\n   </g>\n   <g id=\"text_20\">\n    <!-- Visualization of \"Cant Leave Without It\" -->\n    <defs>\n     <path d=\"M 28.609375 0 \nL 0.78125 72.90625 \nL 11.078125 72.90625 \nL 34.1875 11.53125 \nL 57.328125 72.90625 \nL 67.578125 72.90625 \nL 39.796875 0 \nz\n\" id=\"DejaVuSans-86\"/>\n     <path d=\"M 5.515625 54.6875 \nL 48.1875 54.6875 \nL 48.1875 46.484375 \nL 14.40625 7.171875 \nL 48.1875 7.171875 \nL 48.1875 0 \nL 4.296875 0 \nL 4.296875 8.203125 \nL 38.09375 47.515625 \nL 5.515625 47.515625 \nz\n\" id=\"DejaVuSans-122\"/>\n     <path d=\"M 37.109375 75.984375 \nL 37.109375 68.5 \nL 28.515625 68.5 \nQ 23.6875 68.5 21.796875 66.546875 \nQ 19.921875 64.59375 19.921875 59.515625 \nL 19.921875 54.6875 \nL 34.71875 54.6875 \nL 34.71875 47.703125 \nL 19.921875 47.703125 \nL 19.921875 0 \nL 10.890625 0 \nL 10.890625 47.703125 \nL 2.296875 47.703125 \nL 2.296875 54.6875 \nL 10.890625 54.6875 \nL 10.890625 58.5 \nQ 10.890625 67.625 15.140625 71.796875 \nQ 19.390625 75.984375 28.609375 75.984375 \nz\n\" id=\"DejaVuSans-102\"/>\n     <path d=\"M 17.921875 72.90625 \nL 17.921875 45.796875 \nL 9.625 45.796875 \nL 9.625 72.90625 \nz\nM 36.375 72.90625 \nL 36.375 45.796875 \nL 28.078125 45.796875 \nL 28.078125 72.90625 \nz\n\" id=\"DejaVuSans-34\"/>\n     <path d=\"M 64.40625 67.28125 \nL 64.40625 56.890625 \nQ 59.421875 61.53125 53.78125 63.8125 \nQ 48.140625 66.109375 41.796875 66.109375 \nQ 29.296875 66.109375 22.65625 58.46875 \nQ 16.015625 50.828125 16.015625 36.375 \nQ 16.015625 21.96875 22.65625 14.328125 \nQ 29.296875 6.6875 41.796875 6.6875 \nQ 48.140625 6.6875 53.78125 8.984375 \nQ 59.421875 11.28125 64.40625 15.921875 \nL 64.40625 5.609375 \nQ 59.234375 2.09375 53.4375 0.328125 \nQ 47.65625 -1.421875 41.21875 -1.421875 \nQ 24.65625 -1.421875 15.125 8.703125 \nQ 5.609375 18.84375 5.609375 36.375 \nQ 5.609375 53.953125 15.125 64.078125 \nQ 24.65625 74.21875 41.21875 74.21875 \nQ 47.75 74.21875 53.53125 72.484375 \nQ 59.328125 70.75 64.40625 67.28125 \nz\n\" id=\"DejaVuSans-67\"/>\n     <path d=\"M 9.8125 72.90625 \nL 19.671875 72.90625 \nL 19.671875 8.296875 \nL 55.171875 8.296875 \nL 55.171875 0 \nL 9.8125 0 \nz\n\" id=\"DejaVuSans-76\"/>\n     <path d=\"M 2.984375 54.6875 \nL 12.5 54.6875 \nL 29.59375 8.796875 \nL 46.6875 54.6875 \nL 56.203125 54.6875 \nL 35.6875 0 \nL 23.484375 0 \nz\n\" id=\"DejaVuSans-118\"/>\n     <path d=\"M 3.328125 72.90625 \nL 13.28125 72.90625 \nL 28.609375 11.28125 \nL 43.890625 72.90625 \nL 54.984375 72.90625 \nL 70.3125 11.28125 \nL 85.59375 72.90625 \nL 95.609375 72.90625 \nL 77.296875 0 \nL 64.890625 0 \nL 49.515625 63.28125 \nL 33.984375 0 \nL 21.578125 0 \nz\n\" id=\"DejaVuSans-87\"/>\n     <path d=\"M 54.890625 33.015625 \nL 54.890625 0 \nL 45.90625 0 \nL 45.90625 32.71875 \nQ 45.90625 40.484375 42.875 44.328125 \nQ 39.84375 48.1875 33.796875 48.1875 \nQ 26.515625 48.1875 22.3125 43.546875 \nQ 18.109375 38.921875 18.109375 30.90625 \nL 18.109375 0 \nL 9.078125 0 \nL 9.078125 75.984375 \nL 18.109375 75.984375 \nL 18.109375 46.1875 \nQ 21.34375 51.125 25.703125 53.5625 \nQ 30.078125 56 35.796875 56 \nQ 45.21875 56 50.046875 50.171875 \nQ 54.890625 44.34375 54.890625 33.015625 \nz\n\" id=\"DejaVuSans-104\"/>\n     <path d=\"M 9.8125 72.90625 \nL 19.671875 72.90625 \nL 19.671875 0 \nL 9.8125 0 \nz\n\" id=\"DejaVuSans-73\"/>\n    </defs>\n    <g transform=\"translate(92.640938 16.318125)scale(0.12 -0.12)\">\n     <use xlink:href=\"#DejaVuSans-86\"/>\n     <use x=\"68.376953\" xlink:href=\"#DejaVuSans-105\"/>\n     <use x=\"96.160156\" xlink:href=\"#DejaVuSans-115\"/>\n     <use x=\"148.259766\" xlink:href=\"#DejaVuSans-117\"/>\n     <use x=\"211.638672\" xlink:href=\"#DejaVuSans-97\"/>\n     <use x=\"272.917969\" xlink:href=\"#DejaVuSans-108\"/>\n     <use x=\"300.701172\" xlink:href=\"#DejaVuSans-105\"/>\n     <use x=\"328.484375\" xlink:href=\"#DejaVuSans-122\"/>\n     <use x=\"380.974609\" xlink:href=\"#DejaVuSans-97\"/>\n     <use x=\"442.253906\" xlink:href=\"#DejaVuSans-116\"/>\n     <use x=\"481.462891\" xlink:href=\"#DejaVuSans-105\"/>\n     <use x=\"509.246094\" xlink:href=\"#DejaVuSans-111\"/>\n     <use x=\"570.427734\" xlink:href=\"#DejaVuSans-110\"/>\n     <use x=\"633.806641\" xlink:href=\"#DejaVuSans-32\"/>\n     <use x=\"665.59375\" xlink:href=\"#DejaVuSans-111\"/>\n     <use x=\"726.775391\" xlink:href=\"#DejaVuSans-102\"/>\n     <use x=\"761.980469\" xlink:href=\"#DejaVuSans-32\"/>\n     <use x=\"793.767578\" xlink:href=\"#DejaVuSans-34\"/>\n     <use x=\"839.763672\" xlink:href=\"#DejaVuSans-67\"/>\n     <use x=\"909.587891\" xlink:href=\"#DejaVuSans-97\"/>\n     <use x=\"970.867188\" xlink:href=\"#DejaVuSans-110\"/>\n     <use x=\"1034.246094\" xlink:href=\"#DejaVuSans-116\"/>\n     <use x=\"1073.455078\" xlink:href=\"#DejaVuSans-32\"/>\n     <use x=\"1105.242188\" xlink:href=\"#DejaVuSans-76\"/>\n     <use x=\"1160.939453\" xlink:href=\"#DejaVuSans-101\"/>\n     <use x=\"1222.462891\" xlink:href=\"#DejaVuSans-97\"/>\n     <use x=\"1283.742188\" xlink:href=\"#DejaVuSans-118\"/>\n     <use x=\"1342.921875\" xlink:href=\"#DejaVuSans-101\"/>\n     <use x=\"1404.445312\" xlink:href=\"#DejaVuSans-32\"/>\n     <use x=\"1436.232422\" xlink:href=\"#DejaVuSans-87\"/>\n     <use x=\"1535.078125\" xlink:href=\"#DejaVuSans-105\"/>\n     <use x=\"1562.861328\" xlink:href=\"#DejaVuSans-116\"/>\n     <use x=\"1602.070312\" xlink:href=\"#DejaVuSans-104\"/>\n     <use x=\"1665.449219\" xlink:href=\"#DejaVuSans-111\"/>\n     <use x=\"1726.630859\" xlink:href=\"#DejaVuSans-117\"/>\n     <use x=\"1790.009766\" xlink:href=\"#DejaVuSans-116\"/>\n     <use x=\"1829.21875\" xlink:href=\"#DejaVuSans-32\"/>\n     <use x=\"1861.005859\" xlink:href=\"#DejaVuSans-73\"/>\n     <use x=\"1890.498047\" xlink:href=\"#DejaVuSans-116\"/>\n     <use x=\"1929.707031\" xlink:href=\"#DejaVuSans-34\"/>\n    </g>\n   </g>\n  </g>\n </g>\n <defs>\n  <clipPath id=\"pd9dcf0a31d\">\n   <rect height=\"217.44\" width=\"334.8\" x=\"43.78125\" y=\"22.318125\"/>\n  </clipPath>\n </defs>\n</svg>\n",
      "image/png": "[encoded data removed]"
     },
     "metadata": {
      "needs_background": "light"
     }
    }
   ],
   "source": [
    "import matplotlib.pyplot as plt\n",
    "import numpy as np\n",
    "\n",
    "all_keywords = list(set([keyword for _, keyword in keywords]))\n",
    "x_vals = [0 for keyword in all_keywords]\n",
    "y_pos = np.arange(len(all_keywords))\n",
    "\n",
    "sample = who_covered('Cant Leave Without It')\n",
    "ids = [artist['id'] for artist in artists if artist['name'] in sample]\n",
    "bucket_tags = [keyword[1] for keyword in keywords if keyword[0] in ids]\n",
    "\n",
    "for tag in bucket_tags:\n",
    "    for i in range(len(all_keywords)):\n",
    "        if tag == all_keywords[i]:\n",
    "            x_vals[i] += 1\n",
    "\n",
    "plt.bar(y_pos, x_vals, align='center', alpha=0.5)\n",
    "plt.xticks(y_pos, all_keywords, rotation='vertical')\n",
    "plt.ylabel('Keyword Total From Artists')\n",
    "plt.title('Visualization of \"Cant Leave Without It\"')\n",
    "plt.show()\n"
   ]
  },
  {
   "cell_type": "markdown",
   "metadata": {},
   "source": [
    "### (b) Investigate how you might get Python to automate the production of your idea. What libraries can you find that might be useful?\n",
    "\n",
    "As seen above, I used 'matplotlib.pyplot'.  There are some other libraries such as pandas, numpy, keras, sci-kit, etc.  \n",
    "\n",
    "### (c) Finally, write down one strategy to try answering the above questions about song-style quantitatively. Why? If you’re, say, Spotify, then you would probably like a way to appease a user who says: “I like classic rock that uses lots of keyboard and slow rythm”!\n",
    "\n",
    "The previous markdown cell gave my quantitative approach to this problem.  To further that discussion,another idea could be to introduce weights to keywords, depending on how discriptive the keyword is.  For example, the keyword 'pop' could be a little more descriptive than 'piano', since one defines a genre with the latter is simply one of the instruments involved.  In the above spotify user statement,'classic rock' is the main genre which the user is looking for, then 'keyboard' and 'slow rythm' are elements which belong in any genre, but of course could be used to narrow down once the main genre is decided by the algorithm."
   ]
  }
 ]
}
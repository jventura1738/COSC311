{
 "metadata": {
  "language_info": {
   "codemirror_mode": {
    "name": "ipython",
    "version": 3
   },
   "file_extension": ".py",
   "mimetype": "text/x-python",
   "name": "python",
   "nbconvert_exporter": "python",
   "pygments_lexer": "ipython3",
   "version": "3.7.6-final"
  },
  "orig_nbformat": 2,
  "kernelspec": {
   "name": "python_defaultSpec_1599338947309",
   "display_name": "Python 3.7.6 64-bit"
  }
 },
 "nbformat": 4,
 "nbformat_minor": 2,
 "cells": [
  {
   "cell_type": "markdown",
   "metadata": {},
   "source": [
    "# Lab 1\n",
    "\n",
    "Author: Justin Ventura [[jventura3@gulls.salisbury.edu]]\n",
    "\n",
    "Date: Thursday, September 3rd, 2020.\n",
    "\n",
    "## - Description -\n",
    "\n",
    "Introductory lab going over very simple concepts for review."
   ]
  },
  {
   "cell_type": "markdown",
   "metadata": {},
   "source": [
    "### First make a list of 10 musicians (dictionaries):"
   ]
  },
  {
   "cell_type": "code",
   "execution_count": 40,
   "metadata": {},
   "outputs": [],
   "source": [
    "artists = [\n",
    "    {'id': 0, 'name': 'Juice WRLD'},\n",
    "    {'id': 1, 'name': 'XXXTentacion'},\n",
    "    {'id': 2, 'name': '21 Savage'},\n",
    "    {'id': 3, 'name': 'Lil Baby'},\n",
    "    {'id': 4, 'name': 'The Kid Laroi'},\n",
    "    {'id': 5, 'name': 'Rich Brian'},\n",
    "    {'id': 6, 'name': 'Trippie Redd'},\n",
    "    {'id': 7, 'name': 'Gunna'},\n",
    "    {'id': 8, 'name': 'Travis Scott'},\n",
    "    {'id': 9, 'name': 'Rich The Kid'},\n",
    "    {'id': 10, 'name': 'Iann Dior'},\n",
    "]"
   ]
  },
  {
   "cell_type": "markdown",
   "metadata": {},
   "source": [
    "### Now a list of songs:"
   ]
  },
  {
   "cell_type": "code",
   "execution_count": 41,
   "metadata": {},
   "outputs": [],
   "source": [
    "songs = [\n",
    "    {'id': 0, 'name': 'Robbery'},\n",
    "    {'id': 1, 'name': 'Bankroll'},\n",
    "    {'id': 2, 'name': 'Drip Too Hard'},\n",
    "    {'id': 3, 'name': 'Go'},\n",
    "    {'id': 4, 'name': 'F*** Love'},\n",
    "    {'id': 5, 'name': 'We Should'},\n",
    "    {'id': 6, 'name': 'Prospect'},\n",
    "    {'id': 7, 'name': 'Dark Knight Dummo'},\n",
    "    {'id': 8, 'name': 'Blast Off'},\n",
    "    {'id': 9, 'name': 'Changes'},\n",
    "    {'id': 10, 'name': 'Plug Walk'},\n",
    "    {'id': 11, 'name': 'Strings'},\n",
    "    {'id': 12, 'name': 'Yosemite'},\n",
    "    {'id': 13, 'name': 'Stay for a while'},\n",
    "    {'id': 14, 'name': 'All my friends'},\n",
    "    {'id': 15, 'name': 'Cant leave without it'}\n",
    "]"
   ]
  },
  {
   "cell_type": "markdown",
   "metadata": {},
   "source": [
    "### Now here are the pairs of (artist id, song id) relationships:"
   ]
  },
  {
   "cell_type": "code",
   "execution_count": 42,
   "metadata": {},
   "outputs": [],
   "source": [
    "# form (artist, song)\n",
    "artist_songs = [\n",
    "    (0,0), (0,3), (0,8),\n",
    "    (1,4), (1,9),\n",
    "    (2,14), (2,15),\n",
    "    (3,2), (3,5), (3,6), (3,15),\n",
    "    (4,3),\n",
    "    (5,1),\n",
    "    (6,4), (6,7), (6,8),\n",
    "    (7,2), (7,11), (7,12), (7,15),\n",
    "    (8,7),\n",
    "    (9,1), (9,10), \n",
    "    (10,6), (10,11), (10,13),\n",
    "]"
   ]
  },
  {
   "cell_type": "markdown",
   "metadata": {},
   "source": [
    "### Now we can make a subroutine <code> who_covered </code> to return a list of artists who worked on the song passed in as an argument."
   ]
  },
  {
   "cell_type": "code",
   "execution_count": 55,
   "metadata": {
    "tags": []
   },
   "outputs": [
    {
     "output_type": "stream",
     "name": "stdout",
     "text": "['XXXTentacion', 'Trippie Redd']\n"
    }
   ],
   "source": [
    "def who_covered(target_song: str) -> list:\n",
    "    target = next(song['id'] for song in songs if song['name'] == target_song)\n",
    "    return [artists[pair[0]]['name'] for pair in artist_songs if pair[1] is target]\n",
    "\n",
    "print(who_covered('F*** Love')) # Should print XXXTentacion and Trippie Redd"
   ]
  },
  {
   "cell_type": "markdown",
   "metadata": {},
   "source": [
    "### Now we can make a subroutine <code> shared_songs </code> to take in an artists name, then return songs they have which are also shared with other artists."
   ]
  },
  {
   "cell_type": "code",
   "execution_count": 59,
   "metadata": {
    "tags": []
   },
   "outputs": [
    {
     "output_type": "stream",
     "name": "stdout",
     "text": "['Go', 'Blast Off']\n"
    }
   ],
   "source": [
    "def shared_songs(target_artist: str) -> list:\n",
    "    target = next(artist['id'] for artist in artists if artist['name'] == target_artist)\n",
    "    to_compare = [pair[1] for pair in artist_songs if pair[0] is target]\n",
    "\n",
    "    return [songs[pair[1]].get('name') for pair in artist_songs if songs[pair[1]].get('id') in                   to_compare and songs[pair[0]].get('id') != target]\n",
    "\n",
    "print(shared_songs('Juice WRLD')) # Should print: 'Go' and 'Blast Off'"
   ]
  },
  {
   "cell_type": "markdown",
   "metadata": {},
   "source": [
    "### Now we can make a subroutine <code> song_popularity </code> that prints - in order from most to least covers – the name and number of times each song has been covered."
   ]
  },
  {
   "cell_type": "code",
   "execution_count": 45,
   "metadata": {
    "tags": []
   },
   "outputs": [
    {
     "output_type": "stream",
     "name": "stdout",
     "text": "Song name -->  # of covers  \n------------------------\nCant leave without it --> 3\nBankroll --> 2\nDrip Too Hard --> 2\nGo --> 2\nF*** Love --> 2\nProspect --> 2\nDark Knight Dummo --> 2\nBlast Off --> 2\nStrings --> 2\nRobbery --> 1\nWe Should --> 1\nChanges --> 1\nPlug Walk --> 1\nYosemite --> 1\nStay for a while --> 1\nAll my friends --> 1\n"
    }
   ],
   "source": [
    "def song_popularity():\n",
    "    ranks = {}\n",
    "    for i in range(len(songs)):\n",
    "        ranks[songs[i]['name']] = 0\n",
    "    \n",
    "    for pair in artist_songs:\n",
    "        ranks[songs[pair[1]].get('name')] += 1\n",
    "\n",
    "    ranks = {name: cnt for name, cnt in sorted(ranks.items(),key=lambda item: item[1],reverse=True)}\n",
    "    \n",
    "    print('Song name -->  # of covers  ', end='\\n------------------------\\n')\n",
    "    for name, cnt in ranks.items():\n",
    "        print(name, cnt, sep=' --> ')\n",
    "\n",
    "song_popularity()"
   ]
  },
  {
   "cell_type": "markdown",
   "metadata": {},
   "source": [
    "### The following code will include data about each individual artist; keywords that describe their music."
   ]
  },
  {
   "cell_type": "code",
   "execution_count": 46,
   "metadata": {
    "tags": []
   },
   "outputs": [],
   "source": [
    "keywords = [\n",
    "    (0, 'sad'), (0, 'rnb'), (0, 'melodic'), (0, 'piano'),\n",
    "    (1, 'sad'), (1, 'punk rock'), (1, 'acoustic'), (1, 'guitar'), (1, 'piano'),\n",
    "    (2, 'trap'), (2,'dark'),\n",
    "    (3, 'trap'), (3, 'piano'), (3, 'melodic'),\n",
    "    (4, 'sad'), (4, 'rnb'), (4, 'melodic'), (4, 'pop'),\n",
    "    (5, 'pop'), (5, 'acoustic'), (5, 'piano'),\n",
    "    (6, 'sad'), (6, 'rnb'),\n",
    "    (7, 'trap'), (7, 'guitar'),\n",
    "    (8, 'trap'), (8, 'dark'),\n",
    "    (9, 'trap'),\n",
    "    (10, 'sad'), (10, 'rnb'), (10, 'melodic'), (10, 'pop'), (10, 'acoustic'), (10, 'guitar'),\n",
    "]"
   ]
  },
  {
   "cell_type": "markdown",
   "metadata": {},
   "source": [
    "### Now we will write a function which, given an artist, will return a list of the top 3 similar artists."
   ]
  },
  {
   "cell_type": "code",
   "execution_count": 137,
   "metadata": {
    "tags": []
   },
   "outputs": [
    {
     "output_type": "stream",
     "name": "stdout",
     "text": "['Iann Dior', 'Juice WRLD', 'Trippie Redd']\n"
    }
   ],
   "source": [
    "from collections import defaultdict\n",
    "\n",
    "def similar_artists(target_artist: str) -> list:\n",
    "    target_id = next(artist['id'] for artist in artists if artist['name'] == target_artist)\n",
    "\n",
    "    grouping = defaultdict(list)\n",
    "    for id, keyword in keywords:\n",
    "        grouping[id].append(keyword)\n",
    "\n",
    "    target = (target_id, grouping[target_id])\n",
    "    grouping.pop(target_id, None)\n",
    "\n",
    "    scores = {key: {key: 0} for key, val in grouping.items()}\n",
    "\n",
    "    for id, tags in grouping.items():\n",
    "        for tag in tags:\n",
    "            if tag in target[1]:\n",
    "                scores[id][id] += 1\n",
    "\n",
    "    fresh = [dic for _, dic in scores.items()]\n",
    "\n",
    "    new = []\n",
    "    for elem in fresh:\n",
    "        new += (elem.items())\n",
    "\n",
    "    new.sort(key=lambda item: item[1], reverse=True)\n",
    "    while len(new) > 3:\n",
    "        new.pop(-1)\n",
    "\n",
    "    return [artists[id]['name'] for id, score in new]\n",
    "\n",
    "    # TODO: sort the scores\n",
    "    # print(fresh)\n",
    "\n",
    "print(similar_artists('The Kid Laroi')) # Should print Iann Dior, Juice WRLD, Trippie Redd"
   ]
  },
  {
   "cell_type": "code",
   "execution_count": null,
   "metadata": {},
   "outputs": [],
   "source": []
  }
 ]
}
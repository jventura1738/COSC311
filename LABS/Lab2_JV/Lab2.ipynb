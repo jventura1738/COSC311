{
 "metadata": {
  "language_info": {
   "codemirror_mode": {
    "name": "ipython",
    "version": 3
   },
   "file_extension": ".py",
   "mimetype": "text/x-python",
   "name": "python",
   "nbconvert_exporter": "python",
   "pygments_lexer": "ipython3",
   "version": "3.7.7-final"
  },
  "orig_nbformat": 2,
  "kernelspec": {
   "name": "python_defaultSpec_1600049370926",
   "display_name": "Python 3.7.7 64-bit ('myenv': conda)"
  }
 },
 "nbformat": 4,
 "nbformat_minor": 2,
 "cells": [
  {
   "cell_type": "markdown",
   "metadata": {},
   "source": [
    "# Lab 2\n",
    "\n",
    "Author: Justin Ventura [[jventura3@gulls.salisbury.edu]]\n",
    "\n",
    "Date: Thursday, September 12th, 2020.\n",
    "\n",
    "## - Description -\n",
    "\n",
    "Vector & Geometry classes used to graphically represent polygons with matplotlib.  Then a few methods for all of these including vector operations, cyclic test, and a test to see if a given point is in a polygon.  This is where every test and representation will be done."
   ]
  },
  {
   "cell_type": "markdown",
   "metadata": {},
   "source": [
    "### Vector Class"
   ]
  },
  {
   "cell_type": "code",
   "execution_count": 21,
   "metadata": {},
   "outputs": [],
   "source": [
    "from math import sqrt\n",
    "\n",
    "class Vector:\n",
    "    \"\"\"\n",
    "    This class creates an R2 vector, that is, a\n",
    "    vector with an x and y component.\n",
    "    Default (x,y) -> (1,1)\n",
    "    \"\"\"\n",
    "    def __init__(self, x: float = 0, y: float = 1):\n",
    "        self._x = x\n",
    "        self._y = y\n",
    "\n",
    "    # Magic Methods:\n",
    "    def __repr__(self):\n",
    "        return 'Vector({}, {})'.format(self._x, self._y)\n",
    "\n",
    "    def __getitem__(self, position: int):\n",
    "        return self._x if position is 0 else self._y\n",
    "\n",
    "    # Operator Overloads.\n",
    "    def __add__(self, other):\n",
    "        return Vector(self._x + other._x, self._y + other._y)\n",
    "\n",
    "    def __sub__(self, other):\n",
    "        return Vector(self._x - other._x, self._y - other._y)\n",
    "\n",
    "    def __eq__(self, other) -> bool:\n",
    "        return (self.coords() == other.coords())\n",
    "\n",
    "    # Class Attribute Getters.\n",
    "    def get_x(self) -> float:\n",
    "        \"\"\" Returns x value as float. \"\"\"\n",
    "        return self._x\n",
    "\n",
    "    def get_y(self) -> float:\n",
    "        \"\"\" Returns y value as float. \"\"\"\n",
    "        return self._y\n",
    "\n",
    "    def coords(self) -> tuple:\n",
    "        \"\"\" Returns tuple with x and y values. \"\"\"\n",
    "        return (self._x, self._y)\n",
    "\n",
    "    # Vector Operations.\n",
    "    def dot_prod(self, _v) -> float:\n",
    "        \"\"\" Computes the dot product of self & other vector. \"\"\"\n",
    "        return sum(u_i * v_i for u_i, v_i in zip(self.coords(), _v.coords()))\n",
    "\n",
    "    def sum_of_squares(self, _v) -> float:\n",
    "        \"\"\" This function computes v_1 * v_1 + ... v_n * v_n \"\"\"\n",
    "        return(_v.dot_prod(_v))\n",
    "\n",
    "    def magnitude(self, _v) -> float:\n",
    "        \"\"\" This function computes length/magnitude of v \"\"\"\n",
    "        return sqrt(self.sum_of_squares(_v))\n",
    "\n",
    "    def distance(self, _v) -> float:\n",
    "        \"\"\" This function computes the distance between vectors u and v \"\"\"\n",
    "        return self.magnitude(self - _v)"
   ]
  },
  {
   "cell_type": "markdown",
   "metadata": {},
   "source": [
    "### Vector Class Operation Tests:\n",
    "- Addition/Subtraction\n",
    "- Dot Product\n",
    "- Vector Distance"
   ]
  },
  {
   "cell_type": "code",
   "execution_count": 26,
   "metadata": {
    "tags": []
   },
   "outputs": [
    {
     "output_type": "stream",
     "name": "stdout",
     "text": "v1: Vector(1, 1) | v2: Vector(4, 2) | v3: Vector(9, 4) | v4: Vector(69, 4.2)\n\n------ ADD / SUB ------\nv1 + v2 =  Vector(5, 3)\nv3 - v1 =  Vector(8, 3)\n\n------ DOT  PROD ------\nv2 . v3 =  44\nv1 . v4 =  73.2\n\n------ VECT DIST ------\n|v1 v3| =  8.54400374531753\n|v3 v4| =  60.000333332407415\n"
    }
   ],
   "source": [
    "# Vectors:\n",
    "v1, v2, v3, v4 = Vector(1,1), Vector(4, 2), Vector(9, 4), Vector(69, 4.20)\n",
    "print(f'v1: {v1} | v2: {v2} | v3: {v3} | v4: {v4}\\n')\n",
    "\n",
    "# Addition & Subtraction Tests:\n",
    "print('------ ADD / SUB ------')\n",
    "print('v1 + v2 = ', v1 + v2)\n",
    "print('v3 - v1 = ', v3 - v1)\n",
    "\n",
    "# Dot Product Tests:\n",
    "print('\\n------ DOT  PROD ------')\n",
    "print('v2 . v3 = ', v2.dot_prod(v3)) # Should result in 44\n",
    "print('v1 . v4 = ', v1.dot_prod(v4)) # Should result in 73.2\n",
    "\n",
    "# Vector Distance Tests:\n",
    "print('\\n------ VECT DIST ------')\n",
    "print('|v1 v3| = ', v1.distance(v3)) # Should result in ~08.544\n",
    "print('|v3 v4| = ', v3.distance(v4)) # Should result in ~60.003\n"
   ]
  },
  {
   "cell_type": "markdown",
   "metadata": {},
   "source": [
    "### Geometry Class"
   ]
  },
  {
   "cell_type": "code",
   "execution_count": 18,
   "metadata": {},
   "outputs": [],
   "source": [
    "# For book keeping purposes.\n",
    "from typing import List, Tuple\n",
    "\n",
    "# Pascal naming because my pylinter would not shut up.\n",
    "VectList = List[Vector]\n",
    "EdgeList = List[Tuple[Vector, Vector]]\n",
    "\n",
    "class Geometry:\n",
    "    \"\"\"\n",
    "    geometry class to make a polygon of vectors.\n",
    "    \"\"\"\n",
    "    # Magic Methods:\n",
    "    def __init__(self, vertices: VectList, edges: EdgeList):\n",
    "        self._vertices = vertices\n",
    "        self._edges = edges\n",
    "\n",
    "    def __str__(self):\n",
    "        return f'Vertices: {self._vertices}.\\nEdges: {self._edges}'\n",
    "    \n",
    "    Utility Methods:\n",
    "\n",
    "    def add_face(self, From: Vector = None, To: Vector = None) -> None:\n",
    "        \"\"\"\n",
    "        This function takes two vectors, then creates an edge between\n",
    "        the two.  No duplicate edges allowed.\n",
    "        \"\"\"\n",
    "\n",
    "        # Req 1: vector 2 exists.\n",
    "        assert(To is not None), 'Adding a face requires two vectors.'\n",
    "        # Req 2: neither vectors connect already.\n",
    "        assert((From, To) not in self._edges), 'Duplicate edges not allowed!'\n",
    "\n",
    "        self._edges.append((From, To))\n",
    "\n",
    "        # EXAMPLE:\n",
    "        # [ (1,1) : [ (2,2) ]\n",
    "        #   (2,2) : [ (1,1), (3,3) ]\n",
    "        #   (3,3) : [ (2,2) ]\n",
    "        # ]\n",
    "        # TO ADD: (3,3) to (1,1)\n",
    "        return None\n",
    "\n",
    "    # def is_closed(self, origin: Vector = None) -> bool:\n",
    "    #     \"\"\"\n",
    "    #     Determines if the given geometry is closed or not.  That is,\n",
    "    #     if there is a path that goes from start, and returns back\n",
    "    #     at some point.\n",
    "    #     \"\"\"\n",
    "    #     pass"
   ]
  },
  {
   "cell_type": "markdown",
   "metadata": {},
   "source": [
    "# Setting up tests:"
   ]
  },
  {
   "cell_type": "code",
   "execution_count": 19,
   "metadata": {
    "tags": []
   },
   "outputs": [
    {
     "output_type": "stream",
     "name": "stdout",
     "text": "Vertices: [Vector(0, 0), Vector(1, 1), Vector(2, 2), Vector(3, 3), Vector(4, 4), Vector(5, 5), Vector(6, 6), Vector(7, 7), Vector(8, 8), Vector(9, 9), Vector(10, 10), Vector(11, 9), Vector(12, 8), Vector(13, 7), Vector(14, 6), Vector(15, 5), Vector(16, 4), Vector(17, 3), Vector(18, 2), Vector(19, 1), Vector(20, 0)].\nEdges: [[Vector(0, 0), Vector(1, 1)], [Vector(1, 1), Vector(2, 2)], [Vector(2, 2), Vector(3, 3)], [Vector(3, 3), Vector(4, 4)], [Vector(4, 4), Vector(5, 5)], [Vector(5, 5), Vector(6, 6)], [Vector(6, 6), Vector(7, 7)], [Vector(7, 7), Vector(8, 8)], [Vector(8, 8), Vector(9, 9)], [Vector(9, 9), Vector(10, 10)], [Vector(10, 10), Vector(11, 9)], [Vector(11, 9), Vector(12, 8)], [Vector(12, 8), Vector(13, 7)], [Vector(13, 7), Vector(14, 6)], [Vector(14, 6), Vector(15, 5)], [Vector(15, 5), Vector(16, 4)], [Vector(16, 4), Vector(17, 3)], [Vector(17, 3), Vector(18, 2)], [Vector(18, 2), Vector(19, 1)], [Vector(19, 1), Vector(20, 0)], [Vector(20, 0), (0, 0)]]\n"
    }
   ],
   "source": [
    "# Testing values:\n",
    "my_list = [[Vector(i, i), Vector(i+1, i+1)] for i in range(10)]\n",
    "my_list += [[Vector(10+i, 10-i), Vector(10+i+1, 10-i-1)] for i in range(10)]\n",
    "my_list.append([Vector(20, 0), (0,0)])\n",
    "# for elem in my_list:\n",
    "#     print(elem)\n",
    "\n",
    "# Setting up the test polygon:\n",
    "all_vertices = [x for x, _ in my_list]\n",
    "poly = Geometry(all_vertices, my_list)\n",
    "\n",
    "print(poly)"
   ]
  },
  {
   "cell_type": "code",
   "execution_count": null,
   "metadata": {},
   "outputs": [],
   "source": []
  }
 ]
}
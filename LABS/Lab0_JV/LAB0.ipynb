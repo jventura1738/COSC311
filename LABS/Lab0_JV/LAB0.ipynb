{
 "metadata": {
  "language_info": {
   "codemirror_mode": {
    "name": "ipython",
    "version": 3
   },
   "file_extension": ".py",
   "mimetype": "text/x-python",
   "name": "python",
   "nbconvert_exporter": "python",
   "pygments_lexer": "ipython3",
   "version": "3.7.7-final"
  },
  "orig_nbformat": 2,
  "kernelspec": {
   "name": "python_defaultSpec_1598316028537",
   "display_name": "Python 3.7.7 64-bit ('myenv': conda)"
  }
 },
 "nbformat": 4,
 "nbformat_minor": 2,
 "cells": [
  {
   "cell_type": "markdown",
   "metadata": {
    "tags": []
   },
   "source": [
    "# Lab 0\n",
    "\n",
    "Author: Justin Ventura [[jventura3@gulls.salisbury.edu]]\n",
    "\n",
    "Date: Monday, August 24th, 2020.\n",
    "\n",
    "## - Description -\n",
    "\n",
    "Required lab for Dr. Anderson; playing around with Jupyter Notebooks and refreshing my memory on how these work."
   ]
  },
  {
   "cell_type": "code",
   "execution_count": 2,
   "metadata": {},
   "outputs": [],
   "source": [
    "import numpy as np"
   ]
  },
  {
   "cell_type": "code",
   "execution_count": 3,
   "metadata": {},
   "outputs": [
    {
     "output_type": "execute_result",
     "data": {
      "text/plain": "5"
     },
     "metadata": {},
     "execution_count": 3
    }
   ],
   "source": [
    "3+2"
   ]
  },
  {
   "cell_type": "code",
   "execution_count": 4,
   "metadata": {},
   "outputs": [],
   "source": [
    "x=3+2"
   ]
  },
  {
   "cell_type": "code",
   "execution_count": 5,
   "metadata": {
    "tags": []
   },
   "outputs": [
    {
     "output_type": "stream",
     "name": "stdout",
     "text": "5\n"
    }
   ],
   "source": [
    "print(x)"
   ]
  },
  {
   "cell_type": "code",
   "execution_count": 7,
   "metadata": {},
   "outputs": [],
   "source": [
    "y=np.linspace(0,1)"
   ]
  },
  {
   "cell_type": "code",
   "execution_count": 8,
   "metadata": {
    "tags": []
   },
   "outputs": [
    {
     "output_type": "stream",
     "name": "stdout",
     "text": "[0.         0.02040816 0.04081633 0.06122449 0.08163265 0.10204082\n 0.12244898 0.14285714 0.16326531 0.18367347 0.20408163 0.2244898\n 0.24489796 0.26530612 0.28571429 0.30612245 0.32653061 0.34693878\n 0.36734694 0.3877551  0.40816327 0.42857143 0.44897959 0.46938776\n 0.48979592 0.51020408 0.53061224 0.55102041 0.57142857 0.59183673\n 0.6122449  0.63265306 0.65306122 0.67346939 0.69387755 0.71428571\n 0.73469388 0.75510204 0.7755102  0.79591837 0.81632653 0.83673469\n 0.85714286 0.87755102 0.89795918 0.91836735 0.93877551 0.95918367\n 0.97959184 1.        ]\n"
    }
   ],
   "source": [
    "print(y)"
   ]
  },
  {
   "cell_type": "code",
   "execution_count": null,
   "metadata": {},
   "outputs": [],
   "source": []
  }
 ]
}
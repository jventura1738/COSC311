{
 "metadata": {
  "language_info": {
   "codemirror_mode": {
    "name": "ipython",
    "version": 3
   },
   "file_extension": ".py",
   "mimetype": "text/x-python",
   "name": "python",
   "nbconvert_exporter": "python",
   "pygments_lexer": "ipython3",
   "version": "3.7.9-final"
  },
  "orig_nbformat": 2,
  "kernelspec": {
   "name": "python37964bitmyenvconda48d7066dd14a4bf4bb382169faeb4457",
   "display_name": "Python 3.7.9 64-bit ('myenv': conda)"
  }
 },
 "nbformat": 4,
 "nbformat_minor": 2,
 "cells": [
  {
   "cell_type": "markdown",
   "metadata": {},
   "source": [
    "# LAB 6\n",
    "\n",
    "Authors: $\\lambda$ Justin Ventura [[jventura3@gulls.salisbury.edu]] & Blaine Mason $\\lambda$\n",
    "\n",
    "Date: Thursday, November 12th, 2020.\n",
    "\n",
    "## - Description -\n",
    "\n",
    "Supervised Learning: ** K-Nearest Neighbors **"
   ]
  },
  {
   "cell_type": "code",
   "execution_count": 1,
   "metadata": {},
   "outputs": [
    {
     "output_type": "stream",
     "name": "stdout",
     "text": [
      "iris dataset shape:  (150, 5)\nadult dataset shape:  (32561, 15)\n"
     ]
    }
   ],
   "source": [
    "import numpy as np# Libraries:\n",
    "import numpy as np\n",
    "import numpy.linalg as la\n",
    "import pandas as pd\n",
    "import matplotlib.pyplot as plt\n",
    "\n",
    "# Import iris the dataset:\n",
    "iris = pd.read_csv('iris.data', names=['sep_length', 'sep_width', 'pet_length', 'pet_width', 'class'])\n",
    "print('iris dataset shape: ', iris.shape)\n",
    "\n",
    "# Import the adult dataset:\n",
    "adult = pd.read_csv(\"adult.data\", header=None,\n",
    "                      skipinitialspace=True, # this data has some extra whitespace\n",
    "                      names=['age', 'workclass', 'fnlwgt', 'education',\n",
    "                             'education-num', 'marital-status', \n",
    "                             'occupation', 'relationship', 'race',\n",
    "                             'sex', 'capital_gain', 'capital_loss',\n",
    "                             'hr_per_week', 'country', 'income'\n",
    "                            ])\n",
    "print('adult dataset shape: ', adult.shape)"
   ]
  },
  {
   "cell_type": "markdown",
   "metadata": {},
   "source": [
    "## K-Nearest Neighbor Implementation"
   ]
  },
  {
   "cell_type": "code",
   "execution_count": null,
   "metadata": {},
   "outputs": [],
   "source": [
    "# K-Nearest Neighbor Class.\n",
    "class kNNModel:\n",
    "    def __init__(self, train_x=None):\n",
    "        \"\"\" Initializes the training_data. \"\"\"\n",
    "        self.training_data = train_x if train_x else None\n",
    "    \n",
    "    def distances(self, test_x=None):\n",
    "        \"\"\" Calculates the distance between the training data & test point. \"\"\"\n",
    "        return la.norm(self.training_data - test_x, axis=1) if test_x else None\n",
    "    \n",
    "    def train(self, train_x=None):\n",
    "        \"\"\" Trains the model with pre-labelled data. \"\"\"\n",
    "        if not self.training_data:\n",
    "            self.training_data = train_x\n",
    "        pass\n",
    "\n",
    "    def predict(self, query_point):\n",
    "        \"\"\" Uses the model in order to predict what to label the query point. \"\"\"\n",
    "        pass\n",
    "\n",
    "# Vector Class.\n",
    "class Vector:\n",
    "    def __init__(self, point_list=None):\n",
    "        \"\"\" Give n points in n dimensional vector. \"\"\"\n",
    "        self.points = point_list if point_list else None\n",
    "    "
   ]
  },
  {
   "cell_type": "markdown",
   "metadata": {},
   "source": [
    "## Testing"
   ]
  },
  {
   "cell_type": "code",
   "execution_count": null,
   "metadata": {},
   "outputs": [],
   "source": [
    "train_points = [(1, 2), (3, 4), (5, 6), (-3, 3), (-1, 2), (5, -1), (-6, 3), (0, -2)]\n",
    "train_labels = [0, 0, 0, 0, 1, 1, 1, 1]\n",
    "\n",
    "X = [x for x, _ in point_list]\n",
    "Y = [y for _, y in point_list]\n",
    "\n",
    "plt.scatter(X, Y)\n",
    "plt.show()\n",
    "\n",
    "for i, j in zip(train_points train_labels):\n",
    "    print(f\"i: {i}. j: {j}\")"
   ]
  }
 ]
}
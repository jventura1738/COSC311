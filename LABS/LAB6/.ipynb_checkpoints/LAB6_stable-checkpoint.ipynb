{
 "cells": [
  {
   "cell_type": "markdown",
   "metadata": {},
   "source": [
    "# LAB 6\n",
    "\n",
    "Authors: $\\lambda$ Justin Ventura [[jventura3@gulls.salisbury.edu]] & Blaine Mason $\\lambda$\n",
    "\n",
    "Date: Thursday, November 12th, 2020.\n",
    "\n",
    "## - Description -\n",
    "\n",
    "Supervised Learning: ** K-Nearest Neighbors **"
   ]
  },
  {
   "cell_type": "code",
   "execution_count": 6,
   "metadata": {},
   "outputs": [
    {
     "name": "stdout",
     "output_type": "stream",
     "text": [
      "iris dataset shape:  (150, 5)\n",
      "adult dataset shape:  (32561, 15)\n"
     ]
    }
   ],
   "source": [
    "# Libraries:\n",
    "import numpy as np\n",
    "import numpy.linalg as la\n",
    "import pandas as pd\n",
    "import matplotlib.pyplot as plt\n",
    "from scipy import stats\n",
    "\n",
    "\n",
    "# Import iris the dataset:\n",
    "iris = pd.read_csv('iris.data', names=['sep_length', 'sep_width', 'pet_length', 'pet_width', 'class'])\n",
    "print('iris dataset shape: ', iris.shape)\n",
    "\n",
    "# Import the adult dataset:\n",
    "adult = pd.read_csv(\"adult.data\", header=None,\n",
    "                      skipinitialspace=True, # this data has some extra whitespace\n",
    "                      names=['age', 'workclass', 'fnlwgt', 'education',\n",
    "                             'education-num', 'marital-status', \n",
    "                             'occupation', 'relationship', 'race',\n",
    "                             'sex', 'capital_gain', 'capital_loss',\n",
    "                             'hr_per_week', 'country', 'income'\n",
    "                            ])\n",
    "print('adult dataset shape: ', adult.shape)"
   ]
  },
  {
   "cell_type": "markdown",
   "metadata": {},
   "source": [
    "## K-Nearest Neighbor Implementation"
   ]
  },
  {
   "cell_type": "code",
   "execution_count": 7,
   "metadata": {},
   "outputs": [],
   "source": [
    "# K-Nearest Neighbor Class.\n",
    "class kNNModel:\n",
    "    def __init__(self, k, train_x=None):\n",
    "        \"\"\" Initializes the training_data. [Constructor] \n",
    "        \n",
    "        Args:\n",
    "            train_x [np.array]: pre-labelled training data.\n",
    "        \"\"\"\n",
    "        self.k = k\n",
    "        self.training_data = train_x\n",
    "    \n",
    "    def distances(self, test_x=None):\n",
    "        \"\"\" Calculates the distance between the training data & test point. \n",
    "        NOTE: done in linear O(n) time.\n",
    "\n",
    "        Args:\n",
    "            test_x [float]: a specific value to be tested against the training\n",
    "            data.\n",
    "        \"\"\"\n",
    "        test = [t[0] for t in self.training_data]\n",
    "        return np.array([la.norm(t - test_x, axis=0) for t in test])\n",
    "    \n",
    "    def train(self, train_x=None):\n",
    "        \"\"\" Trains the model with pre-labelled data.\n",
    "        \n",
    "        Args:\n",
    "            train_x [np.array]: the training data used to train model.\n",
    "            * NOTE: if train_x is None, function immediately returns. *\n",
    "\n",
    "        Returns:\n",
    "            None.\n",
    "        \"\"\"\n",
    "\n",
    "        # TODO: use a k-d tree for O(logn) searches.  For now we can use the\n",
    "        # naive O(n) \"brute force\" approach.\n",
    "\n",
    "        if not self.training_data:\n",
    "            self.training_data = train_x\n",
    "        else:\n",
    "            pass\n",
    "        \n",
    "    def predict(self, query_point):\n",
    "        \"\"\" Uses the model in order to predict what to label the query point. \"\"\"\n",
    "        point_class = [t[1] for t in self.training_data]\n",
    "        dist = self.distances(query_point)\n",
    "        dist = [(d, p) for d, p in zip(dist, point_class)]\n",
    "        dist = sorted(dist)\n",
    "        d = list()\n",
    "        for i in range(self.k):\n",
    "            d.append(dist[i][1])\n",
    "        \n",
    "        return int(stats.mode(d)[0])\n",
    "    "
   ]
  },
  {
   "cell_type": "markdown",
   "metadata": {},
   "source": [
    "## Testing"
   ]
  },
  {
   "cell_type": "code",
   "execution_count": 12,
   "metadata": {},
   "outputs": [
    {
     "data": {
      "image/png": "[encoded data removed]",
      "text/plain": [
       "<Figure size 432x288 with 1 Axes>"
      ]
     },
     "metadata": {
      "needs_background": "light"
     },
     "output_type": "display_data"
    }
   ],
   "source": [
    "# Set up the training data.\n",
    "train_points0 = [(3, 2), (1.5, 3), (1, 3), (1, 1)]\n",
    "train_points0 = np.array([np.array(tup) for tup in train_points0])\n",
    "train_points1 = [(-1, 2), (.5, 0), (0, 3), (0, 1.5)]\n",
    "train_points1 = np.array([np.array(tup) for tup in train_points1])\n",
    "\n",
    "# Classes for the points.\n",
    "train_class0 = [0, 0, 0, 0]\n",
    "train_class1 = [1, 1, 1, 1]\n",
    "\n",
    "# Prepare the data to be loaded into the KNN model.\n",
    "train_data0 = [[tup, c] for tup, c in zip(train_points0, train_class0)]\n",
    "train_data1 = [[tup, c] for tup, c in zip(train_points1, train_class1)]\n",
    "train_data = train_data0 + train_data1\n",
    "\n",
    "Lambda = kNNModel(3, train_data)\n",
    "\n",
    "X0 = [x for x, _ in train_points0]\n",
    "Y0 = [y for _, y in train_points0]\n",
    "X1 = [x for x, _ in train_points1]\n",
    "Y1 = [y for _, y in train_points1]\n",
    "\n",
    "query = 1.24, 1.57\n",
    "\n",
    "if (Lambda.predict(query)) == 1:\n",
    "    plt.scatter(query[0], query[1], c='tab:orange')\n",
    "    plt.annotate('qp', query)\n",
    "else:\n",
    "    plt.scatter(query[0], query[1], c='tab:blue')\n",
    "    plt.annotate('qp', query)\n",
    "\n",
    "plt.scatter(X0, Y0)  # training group 0\n",
    "plt.scatter(X1, Y1)  # training group 1\n",
    "plt.show()"
   ]
  },
  {
   "cell_type": "code",
   "execution_count": null,
   "metadata": {},
   "outputs": [],
   "source": []
  }
 ],
 "metadata": {
  "kernelspec": {
   "display_name": "Python 3",
   "language": "python",
   "name": "python3"
  },
  "language_info": {
   "codemirror_mode": {
    "name": "ipython",
    "version": 3
   },
   "file_extension": ".py",
   "mimetype": "text/x-python",
   "name": "python",
   "nbconvert_exporter": "python",
   "pygments_lexer": "ipython3",
   "version": "3.6.7"
  }
 },
 "nbformat": 4,
 "nbformat_minor": 2
}

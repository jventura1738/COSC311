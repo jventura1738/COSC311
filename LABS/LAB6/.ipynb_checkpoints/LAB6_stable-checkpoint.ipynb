{
 "cells": [
  {
   "cell_type": "markdown",
   "metadata": {},
   "source": [
    "# LAB 6\n",
    "\n",
    "Authors: $\\lambda$ Justin Ventura [jventura3@gulls.salisbury.edu] & Blaine Mason $\\lambda$\n",
    "\n",
    "Date: Wednesday, November 18th, 2020.\n",
    "\n",
    "## - Description -\n",
    "\n",
    "Supervised Learning: ** k-Nearest Neighbors **\n",
    "\n",
    "We will be using the kNN algorithm on sample tests to ensure correctness, then apply to the Iris data set (this will be simple considering we have 4 different numeric value (4D vector) and a class), and then the adult data set (this will take more work, as the qualatative data will need adjustments in order to create a numeric representation for the vector; kNN requires numeric values in order to characterize *\"distance\"*)."
   ]
  },
  {
   "cell_type": "code",
   "execution_count": 107,
   "metadata": {},
   "outputs": [
    {
     "name": "stdout",
     "output_type": "stream",
     "text": [
      "iris dataset shape:  (150, 5)\n",
      "adult dataset shape:  (32561, 15)\n",
      "- Justin Ventura & Blaine Mason λ\n"
     ]
    }
   ],
   "source": [
    "# Libraries:\n",
    "import numpy as np\n",
    "import numpy.linalg as la\n",
    "import pandas as pd\n",
    "import matplotlib.pyplot as plt\n",
    "from scipy import stats  # makes my life easier\n",
    "\n",
    "# Import iris the dataset:\n",
    "iris = pd.read_csv('iris.data', names=['sep_length', 'sep_width', 'pet_length', 'pet_width', 'class'])\n",
    "print('iris dataset shape: ', iris.shape)\n",
    "\n",
    "# Import the adult dataset:\n",
    "adult = pd.read_csv(\"adult.data\", header=None,\n",
    "                      skipinitialspace=True, # this data has some extra whitespace\n",
    "                      names=['age', 'workclass', 'fnlwgt', 'education',\n",
    "                             'education-num', 'marital-status', \n",
    "                             'occupation', 'relationship', 'race',\n",
    "                             'sex', 'capital_gain', 'capital_loss',\n",
    "                             'hr_per_week', 'country', 'income'\n",
    "                            ])\n",
    "print('adult dataset shape: ', adult.shape)\n",
    "print('- Justin Ventura & Blaine Mason λ')"
   ]
  },
  {
   "cell_type": "markdown",
   "metadata": {},
   "source": [
    "## K-Nearest Neighbor Implementation:"
   ]
  },
  {
   "cell_type": "code",
   "execution_count": 108,
   "metadata": {},
   "outputs": [],
   "source": [
    "# K-Nearest Neighbor Class.\n",
    "class kNNModel:\n",
    "    \"\"\" k-Nearest Neighbors Model Class.\n",
    "    \n",
    "    Uses training data in order to predict future values\n",
    "    of new query points.\n",
    "    \"\"\"\n",
    "    # kNN Model Constructor.\n",
    "    def __init__(self, k: int=3, train_x=None):\n",
    "        \"\"\" Initializes the training_data. [Constructor] \n",
    "        \n",
    "        Args:\n",
    "            k [int]: the number of neighbors the model should\n",
    "                     use in the 'voting' system.\n",
    "\n",
    "            train_x [list]: pre-labeled (class) training data.\n",
    "            \n",
    "            -> train_x format: list[list[tuple(<numeric-data>), class]]\n",
    "        \"\"\"\n",
    "        self.k = k\n",
    "        self.training_data = train_x\n",
    "\n",
    "    # Calculate the distances of each train point from the test point.\n",
    "    def distances(self, test_x=None) -> list:\n",
    "        \"\"\" Calculates the distance between the training data & test point. \n",
    "        NOTE: done in linear O(n) time.\n",
    "\n",
    "        Args:\n",
    "            test_x [float]: a specific value to be tested against the training\n",
    "            data.\n",
    "        \"\"\"\n",
    "        return np.array([la.norm(t[0] - test_x, axis=0) for t in self.training_data])\n",
    "    \n",
    "    # Give the model training data.\n",
    "    def train(self, train_x=None) -> None:\n",
    "        \"\"\" Trains the model with pre-labelled data.\n",
    "        \n",
    "        Args:\n",
    "            train_x [list]: the training data used to train model.\n",
    "            * NOTE: if train_x is None, function immediately returns. *\n",
    "            \n",
    "            -> train_x format: list[list[tuple(<numeric-data>), class]]\n",
    "\n",
    "        Returns:\n",
    "            None.\n",
    "        \"\"\"\n",
    "        if not self.training_data:\n",
    "            self.training_data = train_x\n",
    "        else:\n",
    "            pass\n",
    "        \n",
    "    def predict(self, query_point):\n",
    "        \"\"\" Uses the model in order to predict what to label the query point.\n",
    "        \n",
    "        Args:\n",
    "            query_point [tuple(<numeric_data>)]: the point in which a class will\n",
    "            be predicted for.\n",
    "            \n",
    "        Returns:\n",
    "            'Class' [int]: The 'Class' will be the numeric class that this algorithm\n",
    "                           deems closest to the possible classes it has been trained\n",
    "                           to identify.\n",
    "        \"\"\"\n",
    "        # TODO: use a k-d tree for O(logn) searches.  For now we can use the\n",
    "        # naive O(n) \"brute force\" approach.\n",
    "        point_class = [t[1] for t in self.training_data]\n",
    "        dist = self.distances(query_point)\n",
    "        dist = [(d, p) for d, p in zip(dist, point_class)]\n",
    "        dist = sorted(dist)\n",
    "        d = [dist[i][1] for i in range(self.k)] # 0 is the np.array of points, 1 is the class. \n",
    "        return int(stats.mode(d)[0])\n",
    "    "
   ]
  },
  {
   "cell_type": "markdown",
   "metadata": {},
   "source": [
    "## Testing kNN model with k = 5.\n",
    "\n",
    "In this cell, I came up with semi-random* points to mark 'territories' for each class.  Then for points $(x, y)$ sampled uniformly random $\\in [-4, 4]$, were used to test against the model.  I am aware that the training data is usually supposed to be greater than the testing data, but I found it interesting to see the cool clusters that form from 100-1000 samples from just knowing 5 points in each class (15 training points in total).  "
   ]
  },
  {
   "cell_type": "code",
   "execution_count": 138,
   "metadata": {},
   "outputs": [
    {
     "data": {
      "image/png": "[encoded data removed]",
      "text/plain": [
       "<Figure size 1080x720 with 1 Axes>"
      ]
     },
     "metadata": {
      "needs_background": "light"
     },
     "output_type": "display_data"
    },
    {
     "name": "stdout",
     "output_type": "stream",
     "text": [
      "Class 0 has 0.29% of the 'territory.'\n",
      "Class 1 has 0.23% of the 'territory.'\n",
      "Class 2 has 0.48% of the 'territory.'\n"
     ]
    }
   ],
   "source": [
    "\"\"\"\n",
    "K-NEAREST NEIGHBORS MODEL TESTING CELL:\n",
    "\n",
    "Justin's IQ peaked while making this. (approximately 56 IQ points, new record!)\n",
    "\"\"\"\n",
    "# Set up the training data.\n",
    "train_points0 = [(2.5, 2), (1.5, 3), (1, 2.6), (1, 1), (3, 3)]\n",
    "train_points0 = np.array([np.array(tup) for tup in train_points0])\n",
    "train_points1 = [(-1, 2), (.5, 0.3), (0, 3), (0, 1.5), (-3, 1.75)]\n",
    "train_points1 = np.array([np.array(tup) for tup in train_points1])\n",
    "train_points2 = [(-1, -2), (-.75, 0), (2, -1), (0, -1.5), (-2.55, 0.5)]\n",
    "train_points2 = np.array([np.array(tup) for tup in train_points2])\n",
    "N = len(train_points0)\n",
    "\n",
    "# Classes for the points.\n",
    "train_class0 = [0] * N\n",
    "train_class1 = [1] * N\n",
    "train_class2 = [2] * N\n",
    "\n",
    "# Prepare the data to be loaded into the KNN model.\n",
    "train_data0 = [[tup, c] for tup, c in zip(train_points0, train_class0)]\n",
    "train_data1 = [[tup, c] for tup, c in zip(train_points1, train_class1)]\n",
    "train_data2 = [[tup, c] for tup, c in zip(train_points2, train_class2)]\n",
    "train_data = train_data0 + train_data1 + train_data2\n",
    "Lambda = kNNModel(5, train_data)\n",
    "\n",
    "# Take random samples for now.\n",
    "NUM_SAMPLES = 100\n",
    "sample_data = {'Class 0': 0, 'Class 1': 0, 'Class 2': 0}\n",
    "for i in range(NUM_SAMPLES):\n",
    "    query = np.random.uniform(-3, 3), np.random.uniform(-3, 3)\n",
    "    \n",
    "    if Lambda.predict(query) == 0:\n",
    "        sample_data['Class 0'] += 1\n",
    "        plt.scatter(query[0], query[1], c='tab:blue', marker='o')\n",
    "    elif Lambda.predict(query) == 1:\n",
    "        sample_data['Class 1'] += 1\n",
    "        plt.scatter(query[0], query[1], c='tab:orange', marker='s')\n",
    "    elif Lambda.predict(query) == 2:\n",
    "        sample_data['Class 2'] += 1\n",
    "        plt.scatter(query[0], query[1], c='tab:green', marker='^')\n",
    "\n",
    "# Now plot it all, gamers RISE!\n",
    "X0 = [x for x, _ in train_points0]\n",
    "Y0 = [y for _, y in train_points0]\n",
    "X1 = [x for x, _ in train_points1]\n",
    "Y1 = [y for _, y in train_points1]\n",
    "X2 = [x for x, _ in train_points2]\n",
    "Y2 = [y for _, y in train_points2]\n",
    "plt.title('kNN Model Test [k = 5]')\n",
    "plt.rcParams['figure.figsize'] = [15, 10]\n",
    "plt.scatter(X0, Y0, c=\"tab:blue\", label='Class 0', s=200, alpha=0.3, marker='o')    # training group 0\n",
    "plt.scatter(X1, Y1, c=\"tab:orange\", label='Class 1', s=200, alpha=0.3, marker='s')  # training group 1\n",
    "plt.scatter(X2, Y2, c=\"tab:green\", label='Class 2', s=200, alpha=0.3, marker='^')   # training group 2\n",
    "plt.legend()\n",
    "plt.xlim(-4, 4)\n",
    "plt.ylim(-4, 4)\n",
    "plt.show()\n",
    "for c, count in sample_data.items():\n",
    "    print(f\"{c} has {count/NUM_SAMPLES}% of the 'territory.'\")\n",
    "pass"
   ]
  },
  {
   "cell_type": "markdown",
   "metadata": {},
   "source": [
    "## Supervised Test against specific points."
   ]
  },
  {
   "cell_type": "code",
   "execution_count": 140,
   "metadata": {},
   "outputs": [
    {
     "data": {
      "image/png": "[encoded data removed]",
      "text/plain": [
       "<Figure size 1080x720 with 1 Axes>"
      ]
     },
     "metadata": {
      "needs_background": "light"
     },
     "output_type": "display_data"
    }
   ],
   "source": [
    "# Plot the given points again.\n",
    "plt.scatter(X0, Y0, c=\"tab:blue\", label='Class 0', s=200, alpha=0.3, marker='o')    # training group 0\n",
    "plt.scatter(X1, Y1, c=\"tab:orange\", label='Class 1', s=200, alpha=0.3, marker='s')  # training group 1\n",
    "plt.scatter(X2, Y2, c=\"tab:green\", label='Class 2', s=200, alpha=0.3, marker='^')   # training group 2\n",
    "plt.legend()\n",
    "plt.xlim(-4, 4)\n",
    "plt.ylim(-4, 4)\n",
    "plt.show()"
   ]
  },
  {
   "cell_type": "markdown",
   "metadata": {},
   "source": [
    "## Data Splitting Functions:"
   ]
  },
  {
   "cell_type": "code",
   "execution_count": null,
   "metadata": {},
   "outputs": [],
   "source": [
    "\"\"\" \n",
    "Here we will \n",
    "\"\"\""
   ]
  },
  {
   "cell_type": "markdown",
   "metadata": {},
   "source": [
    "## Using the iris dataset, test your kNN algorithm to predict which class a given iris belongs to."
   ]
  }
 ],
 "metadata": {
  "kernelspec": {
   "display_name": "Python 3",
   "language": "python",
   "name": "python3"
  },
  "language_info": {
   "codemirror_mode": {
    "name": "ipython",
    "version": 3
   },
   "file_extension": ".py",
   "mimetype": "text/x-python",
   "name": "python",
   "nbconvert_exporter": "python",
   "pygments_lexer": "ipython3",
   "version": "3.6.7"
  }
 },
 "nbformat": 4,
 "nbformat_minor": 2
}

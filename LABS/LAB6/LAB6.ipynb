{
 "metadata": {
  "language_info": {
   "codemirror_mode": {
    "name": "ipython",
    "version": 3
   },
   "file_extension": ".py",
   "mimetype": "text/x-python",
   "name": "python",
   "nbconvert_exporter": "python",
   "pygments_lexer": "ipython3",
   "version": 3
  },
  "orig_nbformat": 2
 },
 "nbformat": 4,
 "nbformat_minor": 2,
 "cells": [
  {
   "cell_type": "markdown",
   "metadata": {},
   "source": [
    "# LAB 6\n",
    "\n",
    "Authors: $\\lambda$ Justin Ventura [[jventura3@gulls.salisbury.edu]] & Blaine Mason $\\lambda$\n",
    "\n",
    "Date: Thursday, November 12th, 2020.\n",
    "\n",
    "## - Description -\n",
    "\n",
    "Supervised Learning: ** K-Nearest Neighbors **"
   ]
  },
  {
   "cell_type": "code",
   "execution_count": null,
   "metadata": {},
   "outputs": [],
   "source": [
    "# Libraries:\n",
    "import numpy as np\n",
    "\n",
    "i"
   ]
  }
 ]
}
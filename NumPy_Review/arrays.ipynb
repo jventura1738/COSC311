{
 "metadata": {
  "language_info": {
   "codemirror_mode": {
    "name": "ipython",
    "version": 3
   },
   "file_extension": ".py",
   "mimetype": "text/x-python",
   "name": "python",
   "nbconvert_exporter": "python",
   "pygments_lexer": "ipython3",
   "version": "3.7.6-final"
  },
  "orig_nbformat": 2,
  "kernelspec": {
   "name": "python_defaultSpec_1598559303758",
   "display_name": "Python 3.7.6 64-bit"
  }
 },
 "nbformat": 4,
 "nbformat_minor": 2,
 "cells": [
  {
   "cell_type": "markdown",
   "metadata": {},
   "source": [
    "# Review (NP arrays)\n",
    "\n",
    "Author: Justin Ventura\n",
    "\n",
    "Date: Thursday, August 27th, 2020.\n",
    "\n",
    "## - Description -\n",
    "\n",
    "Just some review on how to use numpy arrays.\n",
    "\n",
    "First we need to import numpy..."
   ]
  },
  {
   "cell_type": "code",
   "execution_count": 1,
   "metadata": {
    "tags": []
   },
   "outputs": [
    {
     "output_type": "stream",
     "name": "stdout",
     "text": "1.18.0\n"
    }
   ],
   "source": [
    "import numpy as np\n",
    "print(np.__version__)"
   ]
  },
  {
   "cell_type": "markdown",
   "metadata": {},
   "source": [
    "### Ex 1: create an integer array with 10 random numbers (0-9), print it, then print it in reverse."
   ]
  },
  {
   "cell_type": "code",
   "execution_count": 5,
   "metadata": {
    "tags": []
   },
   "outputs": [
    {
     "output_type": "stream",
     "name": "stdout",
     "text": "[2 0 2 9 6 9 3 6 5 2]\n[2 5 6 3 9 6 9 2 0 2]\n"
    }
   ],
   "source": [
    "arr = np.random.randint(low=0, high=10, size=10, dtype='i')\n",
    "print(arr, np.flip(arr), sep='\\n')"
   ]
  },
  {
   "cell_type": "markdown",
   "metadata": {},
   "source": [
    "### Ex2: create the array: [0,1,2,3,4,5,6,7,8,9] then print it as a 3x3 matrix."
   ]
  },
  {
   "cell_type": "code",
   "execution_count": null,
   "metadata": {},
   "outputs": [],
   "source": []
  }
 ]
}
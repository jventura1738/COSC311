{
 "metadata": {
  "language_info": {
   "codemirror_mode": {
    "name": "ipython",
    "version": 3
   },
   "file_extension": ".py",
   "mimetype": "text/x-python",
   "name": "python",
   "nbconvert_exporter": "python",
   "pygments_lexer": "ipython3",
   "version": 3
  },
  "orig_nbformat": 2
 },
 "nbformat": 4,
 "nbformat_minor": 2,
 "cells": [
  {
   "cell_type": "markdown",
   "metadata": {},
   "source": [
    "# Supervised Learning\n",
    "\n",
    "Authors: $\\lambda$ Justin Ventura [[jventura3@gulls.salisbury.edu]] $\\lambda$\n",
    "\n",
    "Date: Thursday, November 12th, 2020.\n",
    "\n",
    "## - Description -\n",
    "\n",
    "A lot of stats :("
   ]
  },
  {
   "cell_type": "markdown",
   "metadata": {},
   "source": [
    "## Classification Algs:\n",
    "\n",
    "- Split data into training and testing\n",
    "- Generate a confusion matrix"
   ]
  },
  {
   "cell_type": "markdown",
   "metadata": {},
   "source": [
    "## K-Nearest Neighbors Classifier Alg\n",
    "\n",
    "IDEA: for a given point, look for the k points in the training set which are \"closest.\"  Predict the given point to have the most common label among those k-nearest neighbors.\n",
    "\n",
    "NOTE: typically choose a small k small, odd, k so we don't have ties.  \n",
    "NOTE: we need a notion of distance.\n",
    "\n",
    "### Generalization Error: \n",
    "How well does the predictor perform on non-training data vs. training data.  The opposite of this is called over-fitting."
   ]
  }
 ]
}
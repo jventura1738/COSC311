{
 "metadata": {
  "language_info": {
   "codemirror_mode": {
    "name": "ipython",
    "version": 3
   },
   "file_extension": ".py",
   "mimetype": "text/x-python",
   "name": "python",
   "nbconvert_exporter": "python",
   "pygments_lexer": "ipython3",
   "version": "3.8.3-final"
  },
  "orig_nbformat": 2,
  "kernelspec": {
   "name": "python3",
   "display_name": "Python 3"
  }
 },
 "nbformat": 4,
 "nbformat_minor": 2,
 "cells": [
  {
   "source": [
    "# Titanic Data Analysis\n",
    "\n",
    "Authors: $\\lambda$ Justin Ventura & Blaine Mason $\\lambda$\n",
    "\n",
    "Date: Tuesday, December 1st, 2020.\n",
    "\n",
    "## - Description -\n",
    "\n",
    "In this notebook, we will use various machine learning techniques in order to create a model that can predict whether a given individual on the Titanic had survived, given their 'features.'  We will show the effectiveness and learning curves of each algorithm, as well as analyze why or why not the algorithm is performing as intended.\n",
    "\n",
    "### Below we will need to import these libraries:"
   ],
   "cell_type": "markdown",
   "metadata": {}
  },
  {
   "cell_type": "code",
   "execution_count": 18,
   "metadata": {},
   "outputs": [
    {
     "output_type": "stream",
     "name": "stdout",
     "text": [
      "(Row, Col) of Titanic Data = (1309, 14)\n"
     ]
    },
    {
     "output_type": "execute_result",
     "data": {
      "text/plain": [
       "   pclass  survived                                             name     sex  \\\n",
       "0       1         1                    Allen, Miss. Elisabeth Walton  female   \n",
       "1       1         1                   Allison, Master. Hudson Trevor    male   \n",
       "2       1         0                     Allison, Miss. Helen Loraine  female   \n",
       "3       1         0             Allison, Mr. Hudson Joshua Creighton    male   \n",
       "4       1         0  Allison, Mrs. Hudson J C (Bessie Waldo Daniels)  female   \n",
       "\n",
       "      age  sibsp  parch  ticket      fare    cabin embarked boat body  \\\n",
       "0      29      0      0   24160  211.3375       B5        S    2    ?   \n",
       "1  0.9167      1      2  113781    151.55  C22 C26        S   11    ?   \n",
       "2       2      1      2  113781    151.55  C22 C26        S    ?    ?   \n",
       "3      30      1      2  113781    151.55  C22 C26        S    ?  135   \n",
       "4      25      1      2  113781    151.55  C22 C26        S    ?    ?   \n",
       "\n",
       "                         home.dest  \n",
       "0                     St Louis, MO  \n",
       "1  Montreal, PQ / Chesterville, ON  \n",
       "2  Montreal, PQ / Chesterville, ON  \n",
       "3  Montreal, PQ / Chesterville, ON  \n",
       "4  Montreal, PQ / Chesterville, ON  "
      ],
      "text/html": "<div>\n<style scoped>\n    .dataframe tbody tr th:only-of-type {\n        vertical-align: middle;\n    }\n\n    .dataframe tbody tr th {\n        vertical-align: top;\n    }\n\n    .dataframe thead th {\n        text-align: right;\n    }\n</style>\n<table border=\"1\" class=\"dataframe\">\n  <thead>\n    <tr style=\"text-align: right;\">\n      <th></th>\n      <th>pclass</th>\n      <th>survived</th>\n      <th>name</th>\n      <th>sex</th>\n      <th>age</th>\n      <th>sibsp</th>\n      <th>parch</th>\n      <th>ticket</th>\n      <th>fare</th>\n      <th>cabin</th>\n      <th>embarked</th>\n      <th>boat</th>\n      <th>body</th>\n      <th>home.dest</th>\n    </tr>\n  </thead>\n  <tbody>\n    <tr>\n      <th>0</th>\n      <td>1</td>\n      <td>1</td>\n      <td>Allen, Miss. Elisabeth Walton</td>\n      <td>female</td>\n      <td>29</td>\n      <td>0</td>\n      <td>0</td>\n      <td>24160</td>\n      <td>211.3375</td>\n      <td>B5</td>\n      <td>S</td>\n      <td>2</td>\n      <td>?</td>\n      <td>St Louis, MO</td>\n    </tr>\n    <tr>\n      <th>1</th>\n      <td>1</td>\n      <td>1</td>\n      <td>Allison, Master. Hudson Trevor</td>\n      <td>male</td>\n      <td>0.9167</td>\n      <td>1</td>\n      <td>2</td>\n      <td>113781</td>\n      <td>151.55</td>\n      <td>C22 C26</td>\n      <td>S</td>\n      <td>11</td>\n      <td>?</td>\n      <td>Montreal, PQ / Chesterville, ON</td>\n    </tr>\n    <tr>\n      <th>2</th>\n      <td>1</td>\n      <td>0</td>\n      <td>Allison, Miss. Helen Loraine</td>\n      <td>female</td>\n      <td>2</td>\n      <td>1</td>\n      <td>2</td>\n      <td>113781</td>\n      <td>151.55</td>\n      <td>C22 C26</td>\n      <td>S</td>\n      <td>?</td>\n      <td>?</td>\n      <td>Montreal, PQ / Chesterville, ON</td>\n    </tr>\n    <tr>\n      <th>3</th>\n      <td>1</td>\n      <td>0</td>\n      <td>Allison, Mr. Hudson Joshua Creighton</td>\n      <td>male</td>\n      <td>30</td>\n      <td>1</td>\n      <td>2</td>\n      <td>113781</td>\n      <td>151.55</td>\n      <td>C22 C26</td>\n      <td>S</td>\n      <td>?</td>\n      <td>135</td>\n      <td>Montreal, PQ / Chesterville, ON</td>\n    </tr>\n    <tr>\n      <th>4</th>\n      <td>1</td>\n      <td>0</td>\n      <td>Allison, Mrs. Hudson J C (Bessie Waldo Daniels)</td>\n      <td>female</td>\n      <td>25</td>\n      <td>1</td>\n      <td>2</td>\n      <td>113781</td>\n      <td>151.55</td>\n      <td>C22 C26</td>\n      <td>S</td>\n      <td>?</td>\n      <td>?</td>\n      <td>Montreal, PQ / Chesterville, ON</td>\n    </tr>\n  </tbody>\n</table>\n</div>"
     },
     "metadata": {},
     "execution_count": 18
    }
   ],
   "source": [
    "\"\"\" Basic Data-Science / Machine Learning Libraries: \"\"\"\n",
    "import numpy as np  # Typical numpy as np.\n",
    "import pandas as pd  # Dataframes library.\n",
    "import numpy.linalg as la  # Linear Alg np.\n",
    "import matplotlib.pyplot as plt  # Plotting.\n",
    "from scipy import stats  # For simple stats.\n",
    "from timeit import default_timer as timer # start = timer(), end = timer()\n",
    "\n",
    "\"\"\" K-Nearest Neighbors Model Imports \"\"\"\n",
    "from KNN_Model import knn_vector, kNN_Model\n",
    "kvect, kmodel = knn_vector, kNN_Model\n",
    "\n",
    "\"\"\" Import the Titanic Dataset \"\"\"\n",
    "titanic = pd.read_csv('titanic_data.csv')  # Reads data nicely.\n",
    "print('(Row, Col) of Titanic Data =', titanic.shape)\n",
    "titanic.head(5) # Print the first 5 entries."
   ]
  },
  {
   "source": [
    "## Explanation of the data being analyzed.\n",
    "\n",
    "The data at hand is real data collected from the Titanic (April 14-15, 1912).  Each row is a specific person who was present at the time of the ships departure.  The columns represent the 'features' of each individual such as: their name,sex, age, fare paid, ticket number, and a few others.  The most important one which we will designate as the 'class' or 'label' of every row or 'population' will be the 'survived' column (feature).\n",
    "\n",
    "### Designating a Label.\n",
    "\n",
    "The purpose of a 'label' or 'class' is to be able to look at the data, and find specific sub-populations that may be related through some sort of metric to define such a relationship.  In this case, the most obvious and interesting feature to be considered the label of each person is: whether or not they survived the tragic sinking of the Titanic in 1912.  This clearly gives two groups: survivors (numeric label: 1) and non-survivors (0).  Given such labels, we can then take their features and possibly find out if any given value(s) for a feature, pair of features, or any combination of certain features, could have influenced their likelihood of survival.\n",
    "\n",
    "### Why?\n",
    "\n",
    "There are many questions to be asked, and (almost) just as many answers to be returned.  A question one may have is: 'what does this matter?  The Titanic has already sank!'  This is true; however, some findings can be interesting to those who may be concerned as to their own likelihood of surviving a ship-wreck if they are met with these unfortunate cirumstances.  It is also interesting to see which people tended to survive, and possibly come to 'conclusions' as to why they may have been more or less likely to survive.  I use the word 'conclusion' loosely, as the #1 rule to any data analysis is: * CORRELATION DOES NOT EQUAL CAUSATION. *"
   ],
   "cell_type": "markdown",
   "metadata": {}
  },
  {
   "cell_type": "code",
   "execution_count": null,
   "metadata": {},
   "outputs": [],
   "source": []
  }
 ]
}
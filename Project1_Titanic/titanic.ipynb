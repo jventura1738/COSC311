{
 "metadata": {
  "language_info": {
   "codemirror_mode": {
    "name": "ipython",
    "version": 3
   },
   "file_extension": ".py",
   "mimetype": "text/x-python",
   "name": "python",
   "nbconvert_exporter": "python",
   "pygments_lexer": "ipython3",
   "version": "3.7.7-final"
  },
  "orig_nbformat": 2,
  "kernelspec": {
   "name": "Python 3.7.7 64-bit ('myenv': conda)",
   "display_name": "Python 3.7.7 64-bit ('myenv': conda)",
   "metadata": {
    "interpreter": {
     "hash": "5e44cd7e4acbc4c3ab0f633f6715c5c79a43487845214c014274b690a60e9521"
    }
   }
  }
 },
 "nbformat": 4,
 "nbformat_minor": 2,
 "cells": [
  {
   "cell_type": "markdown",
   "metadata": {},
   "source": [
    "# Project 1: Titanic Data\n",
    "\n",
    "Author: Justin Ventura [[jventura3@gulls.salisbury.edu]]\n",
    "\n",
    "Date: Wednesday, October 14th, 2020.\n",
    "\n",
    "## - Description -\n",
    "\n",
    "The titanic data on the those who were on the titanic when it sank, whether or not they survived, and other information about each person."
   ]
  },
  {
   "cell_type": "code",
   "execution_count": 5,
   "metadata": {},
   "outputs": [
    {
     "output_type": "stream",
     "name": "stdout",
     "text": [
      "s_frame(row, col) = (1309, 14)\n"
     ]
    },
    {
     "output_type": "execute_result",
     "data": {
      "text/plain": [
       "   pclass  survived                                             name     sex  \\\n",
       "0       1         1                    Allen, Miss. Elisabeth Walton  female   \n",
       "1       1         1                   Allison, Master. Hudson Trevor    male   \n",
       "2       1         0                     Allison, Miss. Helen Loraine  female   \n",
       "3       1         0             Allison, Mr. Hudson Joshua Creighton    male   \n",
       "4       1         0  Allison, Mrs. Hudson J C (Bessie Waldo Daniels)  female   \n",
       "5       1         1                              Anderson, Mr. Harry    male   \n",
       "6       1         1                Andrews, Miss. Kornelia Theodosia  female   \n",
       "7       1         0                           Andrews, Mr. Thomas Jr    male   \n",
       "8       1         1    Appleton, Mrs. Edward Dale (Charlotte Lamson)  female   \n",
       "9       1         0                          Artagaveytia, Mr. Ramon    male   \n",
       "\n",
       "      age  sibsp  parch    ticket      fare    cabin embarked boat body  \\\n",
       "0      29      0      0     24160  211.3375       B5        S    2    ?   \n",
       "1  0.9167      1      2    113781    151.55  C22 C26        S   11    ?   \n",
       "2       2      1      2    113781    151.55  C22 C26        S    ?    ?   \n",
       "3      30      1      2    113781    151.55  C22 C26        S    ?  135   \n",
       "4      25      1      2    113781    151.55  C22 C26        S    ?    ?   \n",
       "5      48      0      0     19952     26.55      E12        S    3    ?   \n",
       "6      63      1      0     13502   77.9583       D7        S   10    ?   \n",
       "7      39      0      0    112050         0      A36        S    ?    ?   \n",
       "8      53      2      0     11769   51.4792     C101        S    D    ?   \n",
       "9      71      0      0  PC 17609   49.5042        ?        C    ?   22   \n",
       "\n",
       "                         home.dest  \n",
       "0                     St Louis, MO  \n",
       "1  Montreal, PQ / Chesterville, ON  \n",
       "2  Montreal, PQ / Chesterville, ON  \n",
       "3  Montreal, PQ / Chesterville, ON  \n",
       "4  Montreal, PQ / Chesterville, ON  \n",
       "5                     New York, NY  \n",
       "6                       Hudson, NY  \n",
       "7                      Belfast, NI  \n",
       "8              Bayside, Queens, NY  \n",
       "9              Montevideo, Uruguay  "
      ],
      "text/html": "<div>\n<style scoped>\n    .dataframe tbody tr th:only-of-type {\n        vertical-align: middle;\n    }\n\n    .dataframe tbody tr th {\n        vertical-align: top;\n    }\n\n    .dataframe thead th {\n        text-align: right;\n    }\n</style>\n<table border=\"1\" class=\"dataframe\">\n  <thead>\n    <tr style=\"text-align: right;\">\n      <th></th>\n      <th>pclass</th>\n      <th>survived</th>\n      <th>name</th>\n      <th>sex</th>\n      <th>age</th>\n      <th>sibsp</th>\n      <th>parch</th>\n      <th>ticket</th>\n      <th>fare</th>\n      <th>cabin</th>\n      <th>embarked</th>\n      <th>boat</th>\n      <th>body</th>\n      <th>home.dest</th>\n    </tr>\n  </thead>\n  <tbody>\n    <tr>\n      <th>0</th>\n      <td>1</td>\n      <td>1</td>\n      <td>Allen, Miss. Elisabeth Walton</td>\n      <td>female</td>\n      <td>29</td>\n      <td>0</td>\n      <td>0</td>\n      <td>24160</td>\n      <td>211.3375</td>\n      <td>B5</td>\n      <td>S</td>\n      <td>2</td>\n      <td>?</td>\n      <td>St Louis, MO</td>\n    </tr>\n    <tr>\n      <th>1</th>\n      <td>1</td>\n      <td>1</td>\n      <td>Allison, Master. Hudson Trevor</td>\n      <td>male</td>\n      <td>0.9167</td>\n      <td>1</td>\n      <td>2</td>\n      <td>113781</td>\n      <td>151.55</td>\n      <td>C22 C26</td>\n      <td>S</td>\n      <td>11</td>\n      <td>?</td>\n      <td>Montreal, PQ / Chesterville, ON</td>\n    </tr>\n    <tr>\n      <th>2</th>\n      <td>1</td>\n      <td>0</td>\n      <td>Allison, Miss. Helen Loraine</td>\n      <td>female</td>\n      <td>2</td>\n      <td>1</td>\n      <td>2</td>\n      <td>113781</td>\n      <td>151.55</td>\n      <td>C22 C26</td>\n      <td>S</td>\n      <td>?</td>\n      <td>?</td>\n      <td>Montreal, PQ / Chesterville, ON</td>\n    </tr>\n    <tr>\n      <th>3</th>\n      <td>1</td>\n      <td>0</td>\n      <td>Allison, Mr. Hudson Joshua Creighton</td>\n      <td>male</td>\n      <td>30</td>\n      <td>1</td>\n      <td>2</td>\n      <td>113781</td>\n      <td>151.55</td>\n      <td>C22 C26</td>\n      <td>S</td>\n      <td>?</td>\n      <td>135</td>\n      <td>Montreal, PQ / Chesterville, ON</td>\n    </tr>\n    <tr>\n      <th>4</th>\n      <td>1</td>\n      <td>0</td>\n      <td>Allison, Mrs. Hudson J C (Bessie Waldo Daniels)</td>\n      <td>female</td>\n      <td>25</td>\n      <td>1</td>\n      <td>2</td>\n      <td>113781</td>\n      <td>151.55</td>\n      <td>C22 C26</td>\n      <td>S</td>\n      <td>?</td>\n      <td>?</td>\n      <td>Montreal, PQ / Chesterville, ON</td>\n    </tr>\n    <tr>\n      <th>5</th>\n      <td>1</td>\n      <td>1</td>\n      <td>Anderson, Mr. Harry</td>\n      <td>male</td>\n      <td>48</td>\n      <td>0</td>\n      <td>0</td>\n      <td>19952</td>\n      <td>26.55</td>\n      <td>E12</td>\n      <td>S</td>\n      <td>3</td>\n      <td>?</td>\n      <td>New York, NY</td>\n    </tr>\n    <tr>\n      <th>6</th>\n      <td>1</td>\n      <td>1</td>\n      <td>Andrews, Miss. Kornelia Theodosia</td>\n      <td>female</td>\n      <td>63</td>\n      <td>1</td>\n      <td>0</td>\n      <td>13502</td>\n      <td>77.9583</td>\n      <td>D7</td>\n      <td>S</td>\n      <td>10</td>\n      <td>?</td>\n      <td>Hudson, NY</td>\n    </tr>\n    <tr>\n      <th>7</th>\n      <td>1</td>\n      <td>0</td>\n      <td>Andrews, Mr. Thomas Jr</td>\n      <td>male</td>\n      <td>39</td>\n      <td>0</td>\n      <td>0</td>\n      <td>112050</td>\n      <td>0</td>\n      <td>A36</td>\n      <td>S</td>\n      <td>?</td>\n      <td>?</td>\n      <td>Belfast, NI</td>\n    </tr>\n    <tr>\n      <th>8</th>\n      <td>1</td>\n      <td>1</td>\n      <td>Appleton, Mrs. Edward Dale (Charlotte Lamson)</td>\n      <td>female</td>\n      <td>53</td>\n      <td>2</td>\n      <td>0</td>\n      <td>11769</td>\n      <td>51.4792</td>\n      <td>C101</td>\n      <td>S</td>\n      <td>D</td>\n      <td>?</td>\n      <td>Bayside, Queens, NY</td>\n    </tr>\n    <tr>\n      <th>9</th>\n      <td>1</td>\n      <td>0</td>\n      <td>Artagaveytia, Mr. Ramon</td>\n      <td>male</td>\n      <td>71</td>\n      <td>0</td>\n      <td>0</td>\n      <td>PC 17609</td>\n      <td>49.5042</td>\n      <td>?</td>\n      <td>C</td>\n      <td>?</td>\n      <td>22</td>\n      <td>Montevideo, Uruguay</td>\n    </tr>\n  </tbody>\n</table>\n</div>"
     },
     "metadata": {},
     "execution_count": 5
    }
   ],
   "source": [
    "# Libraries we shall be using.\n",
    "import numpy as np\n",
    "import pandas as pd\n",
    "import matplotlib.pyplot as plt\n",
    "from timeit import default_timer as timer # start = timer(), end = timer()\n",
    "\n",
    "t_frame = pd.read_csv(\"titanic_data.csv\")\n",
    "print('s_frame(row, col) =', s_frame.shape)\n",
    "t_frame.head(10) # Print the first 9 entries."
   ]
  },
  {
   "cell_type": "markdown",
   "metadata": {},
   "source": [
    "### A) What type of population is being sampled? What are the “things” getting measured – usually one per row of data.\n",
    "\n",
    "Each row is a person who was on board the titanic during the course from port to sinking.\n",
    "\n",
    "### B) What features does each sample have, i.e. what is being measured?\n",
    "\n",
    "The target of the dataset is to see which people survived, and if they did, could we use these features to see if they had some sort of relationship to survival: pclass, (essentially the wealth class of the person) a boolean value for their survival, (1 if they survived, 0 otherwise) their gender, age, # of siblings/spouses on board, # of parents/children on board, their ticket number, the fare they paid, which cabin they were in, where they embarked, (with respect to one of the three ports: Cherbourg, Queenstown, Southampton) which life boat they were on if any, body identification number, (if they did not survive, and their body was found) and finally their home/destination.\n",
    "\n",
    "### C) Are the features quantitative or qualitative? Ordinal or nominal? Continuous or discrete?\n",
    "\n",
    "**qualitative:**\n",
    "\n",
    "Surivival, PClass, Name, Gender, Ticket Number, Cabin, Embarkation Port, Life Boat, Body Num, Home/Dest.\n",
    "\n",
    "**quantitative:**\n",
    "\n",
    "Age, Fare, SIBSP, PARCH.\n",
    "\n",
    "**ordinal:**\n",
    "\n",
    "Class, Age, Ticket, Cabin, Body Number.\n",
    "\n",
    "**nominal**\n",
    "\n",
    "Survival, Name, Gender, SIBSP, PARCH, Fare, Embarked, Boat.\n",
    "\n",
    "**continuous:**\n",
    "\n",
    "Only the fare is continuous.\n",
    "\n",
    "**discrete**\n",
    "\n",
    "All other values are discrete.\n",
    "\n",
    "### D)  Is the data “complete” or do some of the samples have null or absent values for certain features? Why are these samples still useful? Why are they incomplete?\n",
    "\n",
    "The data is incomplete.  These samples are still useful as they only lack certain features, which only excludes them from specific statistics.  The data is incomplete for those bodies not found, or those who did not have a cabin.\n",
    "\n",
    "### E) Why are these features chosen to be part of the dataset?\n",
    "\n",
    "These features are chosen to attempt to make a correlation between a persons survival rate on the Titanic, and their qualities; such as, whether the higher class had a higher chance of surviving, or if the male survival rate is less than the female surival rate.\n",
    "\n",
    "### F) What are some other features that are not included but that you think might make sense to include for this dataset?\n",
    "\n",
    "A few useful features that would be nice to have are 1) their occupation, 2) whether or not they worked on the boat, (perhaps those who worked on the boat prioritized saving others before themselves) 3) if the person was physically healthy. (maybe those were overweight or had a lung disease were less likely to survive)"
   ]
  },
  {
   "cell_type": "markdown",
   "metadata": {},
   "source": [
    "### G) Give at least one way that you can pivot the dataset to get a slightly different representation of some values. Explain what this is and how you would use it for a visualization.\n",
    "\n",
    "We could pivot the data to create a histogram for the distribution of ages that survived."
   ]
  },
  {
   "cell_type": "code",
   "execution_count": 6,
   "metadata": {},
   "outputs": [],
   "source": [
    "# TODO: pivot data"
   ]
  },
  {
   "cell_type": "markdown",
   "metadata": {},
   "source": [
    "### H) Identify any possible relationships between features included in the data: which ones are likely to affect others?"
   ]
  },
  {
   "cell_type": "code",
   "execution_count": 7,
   "metadata": {},
   "outputs": [],
   "source": [
    "# NOTE: Show at least one plot or visualization to illustrate this (possible) relationship\n",
    "\n",
    "# NOTE: What numerical or statistical techniques might you consider using to determine whether \n",
    "# the relationship is reliable?\n",
    "\n",
    "# NOTE: Are there external inferences you think might be possible? For instance, can you hypothesize\n",
    "# a relationship with data not included in the dataset? Why or why not?"
   ]
  },
  {
   "cell_type": "markdown",
   "metadata": {},
   "source": [
    "### I) What “extra” features can you perhaps compute from the data? For example, if you have data that includes product dates of purchase, you can “engineer” the data to construct the most popular products over various lengths of time (e.g. a particular holiday season). How might you use this information? Using the holiday example, you might try to correlate holiday sales of a product to some mainstream event that popularized it.\n",
    "\n",
    "One thing we could calculate is the survival rate for a gender, age, or pclass.  This would be really good for a machine learning model."
   ]
  },
  {
   "cell_type": "code",
   "execution_count": null,
   "metadata": {},
   "outputs": [],
   "source": []
  }
 ]
}
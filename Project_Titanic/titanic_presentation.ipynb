{
 "metadata": {
  "language_info": {
   "codemirror_mode": {
    "name": "ipython",
    "version": 3
   },
   "file_extension": ".py",
   "mimetype": "text/x-python",
   "name": "python",
   "nbconvert_exporter": "python",
   "pygments_lexer": "ipython3",
   "version": "3.8.3-final"
  },
  "orig_nbformat": 2,
  "kernelspec": {
   "name": "python3",
   "display_name": "Python 3.8.3 64-bit ('base': conda)",
   "metadata": {
    "interpreter": {
     "hash": "eb85bc834bd2cde1e21e28f7a1dbc887254b269da0eadb537a802bc3a76acb73"
    }
   }
  }
 },
 "nbformat": 4,
 "nbformat_minor": 2,
 "cells": [
  {
   "source": [
    "# Titanic Presentation NB"
   ],
   "cell_type": "markdown",
   "metadata": {}
  },
  {
   "cell_type": "code",
   "execution_count": 18,
   "metadata": {},
   "outputs": [],
   "source": [
    "import NeuralNetwork as NN\n",
    "import importlib\n",
    "importlib.reload(NN)\n",
    "pass"
   ]
  },
  {
   "cell_type": "code",
   "execution_count": 19,
   "metadata": {},
   "outputs": [],
   "source": [
    "Lambda = NN.Tneural_network(3)"
   ]
  },
  {
   "cell_type": "code",
   "execution_count": 22,
   "metadata": {},
   "outputs": [
    {
     "output_type": "stream",
     "name": "stdout",
     "text": [
      "layer1\n[[0.3444330188061876, 0.6737171942922444, 0.4835165966756325, 0.1604613789200805], [0.7407668695232107, 0.035569528769894165, 0.7194700533912132, 0.5404589888349034], [0.4558279441172145, 0.6520701005522456, 0.9241902157047883, 0.6176628299902952]]\nlayer2\n[[0.41323234886811167, 0.8145417780880198, 0.33969626452103663], [0.22733720393510992, 0.03440352659981172, 0.3134602574568871], [0.0973493768913517, 0.624181232098268, 0.5003432512437513]]\nlayer3\n[[0.8212043511286449, 0.09955775436380121, 0.9189980038781657], [0.945513817102795, 0.5743609819530993, 0.026656603944517743]]\n"
     ]
    }
   ],
   "source": [
    "print('layer1')\n",
    "print(Lambda.get_weights()[0])\n",
    "print('\\nlayer2')\n",
    "print(Lambda.get_weights()[1])\n",
    "print('\\nlayer3')\n",
    "print(Lambda.get_weights()[2])"
   ]
  },
  {
   "cell_type": "code",
   "execution_count": 13,
   "metadata": {},
   "outputs": [
    {
     "output_type": "stream",
     "name": "stdout",
     "text": [
      "[0.9055335309245942, 0.9032291934890234]\n"
     ]
    }
   ],
   "source": [
    "result = Lambda.feed_forward([1,1,1])\n",
    "print(result[-1])"
   ]
  },
  {
   "cell_type": "code",
   "execution_count": null,
   "metadata": {},
   "outputs": [],
   "source": []
  }
 ]
}
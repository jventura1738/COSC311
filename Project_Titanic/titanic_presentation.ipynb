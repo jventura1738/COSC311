{
 "metadata": {
  "language_info": {
   "codemirror_mode": {
    "name": "ipython",
    "version": 3
   },
   "file_extension": ".py",
   "mimetype": "text/x-python",
   "name": "python",
   "nbconvert_exporter": "python",
   "pygments_lexer": "ipython3",
   "version": "3.8.3-final"
  },
  "orig_nbformat": 2,
  "kernelspec": {
   "name": "python3",
   "display_name": "Python 3.8.3 64-bit ('base': conda)",
   "metadata": {
    "interpreter": {
     "hash": "eb85bc834bd2cde1e21e28f7a1dbc887254b269da0eadb537a802bc3a76acb73"
    }
   }
  }
 },
 "nbformat": 4,
 "nbformat_minor": 2,
 "cells": [
  {
   "source": [
    "# Titanic Presentation NB"
   ],
   "cell_type": "markdown",
   "metadata": {}
  },
  {
   "cell_type": "code",
   "execution_count": 66,
   "metadata": {},
   "outputs": [],
   "source": [
    "import NeuralNetwork as NN\n",
    "import numpy as np\n",
    "import importlib\n",
    "import tqdm\n",
    "importlib.reload(NN)\n",
    "pass"
   ]
  },
  {
   "cell_type": "code",
   "execution_count": 67,
   "metadata": {},
   "outputs": [],
   "source": [
    "Lambda = NN.Tneural_network(2, 2, 2)"
   ]
  },
  {
   "cell_type": "code",
   "execution_count": 68,
   "metadata": {},
   "outputs": [
    {
     "output_type": "stream",
     "name": "stdout",
     "text": [
      "Current loss: 3.5496067673142706\n"
     ]
    }
   ],
   "source": [
    "X = np.array(\n",
    "    [\n",
    "        [ 0.2, 2.2 ],\n",
    "        [ -1.9, -0.3],\n",
    "        [ 1, -1],\n",
    "        [ -1, 1]\n",
    "    ]\n",
    ")\n",
    "\n",
    "# The labels\n",
    "Y = np.array([1, 1, -1, 1])\n",
    "\n",
    "epochs = 1000\n",
    "\n",
    "Lambda.train_network(X, Y, 1)"
   ]
  },
  {
   "cell_type": "code",
   "execution_count": 74,
   "metadata": {},
   "outputs": [
    {
     "output_type": "stream",
     "name": "stdout",
     "text": [
      "Current loss: 3.01929337224181\n"
     ]
    }
   ],
   "source": [
    "Lambda.train_network(X, Y, 10000)"
   ]
  },
  {
   "cell_type": "code",
   "execution_count": null,
   "metadata": {},
   "outputs": [],
   "source": []
  }
 ]
}
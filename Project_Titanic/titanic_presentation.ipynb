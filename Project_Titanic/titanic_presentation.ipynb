{
 "metadata": {
  "language_info": {
   "codemirror_mode": {
    "name": "ipython",
    "version": 3
   },
   "file_extension": ".py",
   "mimetype": "text/x-python",
   "name": "python",
   "nbconvert_exporter": "python",
   "pygments_lexer": "ipython3",
   "version": "3.8.3-final"
  },
  "orig_nbformat": 2,
  "kernelspec": {
   "name": "python3",
   "display_name": "Python 3.8.3 64-bit ('anaconda3': virtualenv)",
   "metadata": {
    "interpreter": {
     "hash": "eb85bc834bd2cde1e21e28f7a1dbc887254b269da0eadb537a802bc3a76acb73"
    }
   }
  }
 },
 "nbformat": 4,
 "nbformat_minor": 2,
 "cells": [
  {
   "source": [
    "# Titanic Presentation NB"
   ],
   "cell_type": "markdown",
   "metadata": {}
  },
  {
   "cell_type": "code",
   "execution_count": 10,
   "metadata": {},
   "outputs": [],
   "source": [
    "from NeuralNetwork import Tneural_network as TNN"
   ]
  },
  {
   "cell_type": "code",
   "execution_count": 11,
   "metadata": {},
   "outputs": [],
   "source": [
    "Lambda = TNN(3, 2, 1)"
   ]
  },
  {
   "cell_type": "code",
   "execution_count": 12,
   "metadata": {},
   "outputs": [
    {
     "output_type": "stream",
     "name": "stdout",
     "text": [
      "in\n[[0.21948422739637863, 0.25836112162569114, 0.5473802422674042, 0.600671439904938], [0.7849226488961716, 0.24174717193557838, 0.560819026047088, 0.6763533548025297], [0.2520826204675639, 0.7862571554044633, 0.5970281898702197, 0.18607122142989885], [0.23942575112058928, 0.7756623045425719, 0.43887166368488617, 0.22179021547525957]]\n\nout\n[[0.3857184271518933, 0.994305785716846, 0.41638723044953196, 0.463867916670606], [0.833324630323005, 0.6756293324304338, 0.6042648069990894, 0.12041220168087963]]\n"
     ]
    }
   ],
   "source": [
    "print('in')\n",
    "print(Lambda.get_weights()[0])\n",
    "print('\\nout')\n",
    "print(Lambda.get_weights()[1])"
   ]
  },
  {
   "cell_type": "code",
   "execution_count": 13,
   "metadata": {},
   "outputs": [
    {
     "output_type": "stream",
     "name": "stdout",
     "text": [
      "[0.9055335309245942, 0.9032291934890234]\n"
     ]
    }
   ],
   "source": [
    "result = Lambda.feed_forward([1,1,1])\n",
    "print(result[-1])"
   ]
  },
  {
   "cell_type": "code",
   "execution_count": null,
   "metadata": {},
   "outputs": [],
   "source": []
  }
 ]
}
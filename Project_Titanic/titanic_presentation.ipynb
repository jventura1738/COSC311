{
 "metadata": {
  "language_info": {
   "codemirror_mode": {
    "name": "ipython",
    "version": 3
   },
   "file_extension": ".py",
   "mimetype": "text/x-python",
   "name": "python",
   "nbconvert_exporter": "python",
   "pygments_lexer": "ipython3",
   "version": "3.8.3-final"
  },
  "orig_nbformat": 2,
  "kernelspec": {
   "name": "python3",
   "display_name": "Python 3.8.3 64-bit ('base': conda)",
   "metadata": {
    "interpreter": {
     "hash": "eb85bc834bd2cde1e21e28f7a1dbc887254b269da0eadb537a802bc3a76acb73"
    }
   }
  }
 },
 "nbformat": 4,
 "nbformat_minor": 2,
 "cells": [
  {
   "source": [
    "# Titanic Presentation NB"
   ],
   "cell_type": "markdown",
   "metadata": {}
  },
  {
   "cell_type": "code",
   "execution_count": 71,
   "metadata": {},
   "outputs": [],
   "source": [
    "import NeuralNetwork as NN\n",
    "import importlib\n",
    "importlib.reload(NN)\n",
    "pass"
   ]
  },
  {
   "cell_type": "code",
   "execution_count": 72,
   "metadata": {},
   "outputs": [],
   "source": [
    "Lambda = NN.Tneural_network(3)"
   ]
  },
  {
   "cell_type": "code",
   "execution_count": 73,
   "metadata": {},
   "outputs": [
    {
     "output_type": "stream",
     "name": "stdout",
     "text": [
      "layer1\n[[0.9852188386631398, 0.7515365212834433, 0.39514392027649725, 0.8384813936162365], [0.5047829588269156, 0.7776748092959603, 0.9588743317847721, 0.9352417654823805]]\n\nlayer2\n[[0.9022664250867346, 0.5707717704171152, 0.4789526144715823], [0.3147770046174877, 0.9142441606621168, 0.33749398974779365]]\n\nlayer3\n[[0.6629638628433747, 0.482902573167186, 0.9927380075209654], [0.9554159129467827, 0.7404780679453056, 0.25038692822336994]]\n"
     ]
    }
   ],
   "source": [
    "print('layer1')\n",
    "print(Lambda.get_weights()[0])\n",
    "print('\\nlayer2')\n",
    "print(Lambda.get_weights()[1])\n",
    "print('\\nlayer3')\n",
    "print(Lambda.get_weights()[2])"
   ]
  },
  {
   "cell_type": "code",
   "execution_count": 74,
   "metadata": {},
   "outputs": [
    {
     "output_type": "stream",
     "name": "stdout",
     "text": [
      "[0.8769838050882669, 0.8438121685585307]\n"
     ]
    }
   ],
   "source": [
    "result = Lambda.feed_forward([1,1,1])\n",
    "print(result[-1])"
   ]
  },
  {
   "cell_type": "code",
   "execution_count": null,
   "metadata": {},
   "outputs": [],
   "source": [
    "Lambda.train_network([0,0,0], [1,0])"
   ]
  },
  {
   "cell_type": "code",
   "execution_count": null,
   "metadata": {},
   "outputs": [],
   "source": [
    "train_set = [\n",
    "    [0,0,0],\n",
    "    [0,1,0],\n",
    "    [0,1,1],\n",
    "    [1,0,1],\n",
    "    [1,1,0]\n",
    "]\n",
    "labels = [\n",
    "    [1,0],\n",
    "    [1,0],\n",
    "    [0,1],\n",
    "    [0,1],\n",
    "    [0,1]\n",
    "]\n",
    "\n",
    "test_set = [\n",
    "    [0,0,1],\n",
    "    [1,0,0],\n",
    "    [1,1,1]\n",
    "]"
   ]
  }
 ]
}